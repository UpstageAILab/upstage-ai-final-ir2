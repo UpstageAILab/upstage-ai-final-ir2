{
 "cells": [
  {
   "cell_type": "code",
   "execution_count": 2,
   "metadata": {
    "ExecuteTime": {
     "end_time": "2024-05-02T06:08:36.370698Z",
     "start_time": "2024-05-02T06:08:35.903700Z"
    }
   },
   "outputs": [],
   "source": [
    "import os\n",
    "import pandas as pd"
   ]
  },
  {
   "cell_type": "code",
   "execution_count": 21,
   "metadata": {},
   "outputs": [],
   "source": [
    "POSTFIX = datetime.now().strftime(\"%Y-%m-%d_%H-%M\")"
   ]
  },
  {
   "cell_type": "code",
   "execution_count": 3,
   "metadata": {
    "ExecuteTime": {
     "end_time": "2024-05-02T06:08:36.433418Z",
     "start_time": "2024-05-02T06:08:36.373680Z"
    }
   },
   "outputs": [],
   "source": [
    "data_path = 'data'\n",
    "train_df = pd.read_csv(os.path.join(data_path,'train_ir.csv'))\n",
    "val_df = pd.read_csv(os.path.join(data_path,'val_ir.csv'))\n",
    "test_df = pd.read_csv(os.path.join(data_path,'test_ir.csv'))"
   ]
  },
  {
   "cell_type": "code",
   "execution_count": 4,
   "metadata": {
    "ExecuteTime": {
     "end_time": "2024-05-02T06:24:19.090133Z",
     "start_time": "2024-05-02T06:24:18.467433Z"
    }
   },
   "outputs": [],
   "source": [
    "df = pd.read_csv('data/final_pos_neg (1).csv')"
   ]
  },
  {
   "cell_type": "code",
   "execution_count": 6,
   "metadata": {},
   "outputs": [
    {
     "data": {
      "text/html": [
       "<div>\n",
       "<style scoped>\n",
       "    .dataframe tbody tr th:only-of-type {\n",
       "        vertical-align: middle;\n",
       "    }\n",
       "\n",
       "    .dataframe tbody tr th {\n",
       "        vertical-align: top;\n",
       "    }\n",
       "\n",
       "    .dataframe thead th {\n",
       "        text-align: right;\n",
       "    }\n",
       "</style>\n",
       "<table border=\"1\" class=\"dataframe\">\n",
       "  <thead>\n",
       "    <tr style=\"text-align: right;\">\n",
       "      <th></th>\n",
       "      <th>Unnamed: 0</th>\n",
       "      <th>content</th>\n",
       "      <th>id</th>\n",
       "      <th>question</th>\n",
       "      <th>Domain</th>\n",
       "      <th>data_id</th>\n",
       "      <th>PosNeg</th>\n",
       "    </tr>\n",
       "  </thead>\n",
       "  <tbody>\n",
       "    <tr>\n",
       "      <th>0</th>\n",
       "      <td>0</td>\n",
       "      <td>건강한 사람이 에너지 균형을 평형 상태로 유지하는 것은 중요합니다. 에너지 균형은 ...</td>\n",
       "      <td>42508ee0-c543-4338-878e-d98c6babee66</td>\n",
       "      <td>에너지 균형이란 무엇이며, 왜 건강에 중요한가요?</td>\n",
       "      <td>nutrition</td>\n",
       "      <td>test</td>\n",
       "      <td>1</td>\n",
       "    </tr>\n",
       "    <tr>\n",
       "      <th>1</th>\n",
       "      <td>1</td>\n",
       "      <td>수소, 산소, 질소 가스의 혼합물에서 평균 속도가 가장 빠른 분자는 수소입니다. 수...</td>\n",
       "      <td>4a437e7f-16c1-4c62-96b9-f173d44f4339</td>\n",
       "      <td>수소 분자가 다른 분자들보다 더 빠르게 움직이는 이유는 무엇인가요?</td>\n",
       "      <td>conceptual_physics</td>\n",
       "      <td>test</td>\n",
       "      <td>1</td>\n",
       "    </tr>\n",
       "    <tr>\n",
       "      <th>2</th>\n",
       "      <td>2</td>\n",
       "      <td>종이와 플라스틱은 재활용 가능한 자원입니다. 중학교 과학 수업에서 우리는 종이와 플...</td>\n",
       "      <td>d3c68be5-9cb1-4d6e-ba18-5f81cf89affb</td>\n",
       "      <td>종이와 플라스틱이 재활용 가능한 이유는 무엇인가요?</td>\n",
       "      <td>ARC_Challenge</td>\n",
       "      <td>test</td>\n",
       "      <td>1</td>\n",
       "    </tr>\n",
       "    <tr>\n",
       "      <th>3</th>\n",
       "      <td>3</td>\n",
       "      <td>마이애미파랑나비는 남부 플로리다에서 멸종 위기에 처한 종입니다. 이 나비의 개체수 ...</td>\n",
       "      <td>910107a6-2a42-41a2-b337-fbf22d6440fe</td>\n",
       "      <td>마이애미파랑나비의 주택 건설 증가에 대한 영향은 어떻게 나타나고 있나요?</td>\n",
       "      <td>ARC_Challenge</td>\n",
       "      <td>test</td>\n",
       "      <td>1</td>\n",
       "    </tr>\n",
       "    <tr>\n",
       "      <th>4</th>\n",
       "      <td>4</td>\n",
       "      <td>비버는 나무를 베고, 덤불과 관목을 모아 강과 개울에 댐을 만드는 것으로 알려져 있...</td>\n",
       "      <td>74f22819-1a8e-4646-8a9d-13323de8cdb8</td>\n",
       "      <td>비버는 왜 나무를 베고 댐을 만드는 것으로 알려져 있나요?</td>\n",
       "      <td>ARC_Challenge</td>\n",
       "      <td>validation</td>\n",
       "      <td>1</td>\n",
       "    </tr>\n",
       "  </tbody>\n",
       "</table>\n",
       "</div>"
      ],
      "text/plain": [
       "   Unnamed: 0                                            content  \\\n",
       "0           0  건강한 사람이 에너지 균형을 평형 상태로 유지하는 것은 중요합니다. 에너지 균형은 ...   \n",
       "1           1  수소, 산소, 질소 가스의 혼합물에서 평균 속도가 가장 빠른 분자는 수소입니다. 수...   \n",
       "2           2  종이와 플라스틱은 재활용 가능한 자원입니다. 중학교 과학 수업에서 우리는 종이와 플...   \n",
       "3           3  마이애미파랑나비는 남부 플로리다에서 멸종 위기에 처한 종입니다. 이 나비의 개체수 ...   \n",
       "4           4  비버는 나무를 베고, 덤불과 관목을 모아 강과 개울에 댐을 만드는 것으로 알려져 있...   \n",
       "\n",
       "                                     id  \\\n",
       "0  42508ee0-c543-4338-878e-d98c6babee66   \n",
       "1  4a437e7f-16c1-4c62-96b9-f173d44f4339   \n",
       "2  d3c68be5-9cb1-4d6e-ba18-5f81cf89affb   \n",
       "3  910107a6-2a42-41a2-b337-fbf22d6440fe   \n",
       "4  74f22819-1a8e-4646-8a9d-13323de8cdb8   \n",
       "\n",
       "                                   question              Domain     data_id  \\\n",
       "0               에너지 균형이란 무엇이며, 왜 건강에 중요한가요?           nutrition        test   \n",
       "1     수소 분자가 다른 분자들보다 더 빠르게 움직이는 이유는 무엇인가요?  conceptual_physics        test   \n",
       "2              종이와 플라스틱이 재활용 가능한 이유는 무엇인가요?       ARC_Challenge        test   \n",
       "3  마이애미파랑나비의 주택 건설 증가에 대한 영향은 어떻게 나타나고 있나요?       ARC_Challenge        test   \n",
       "4          비버는 왜 나무를 베고 댐을 만드는 것으로 알려져 있나요?       ARC_Challenge  validation   \n",
       "\n",
       "   PosNeg  \n",
       "0       1  \n",
       "1       1  \n",
       "2       1  \n",
       "3       1  \n",
       "4       1  "
      ]
     },
     "execution_count": 6,
     "metadata": {},
     "output_type": "execute_result"
    }
   ],
   "source": [
    "df.head()"
   ]
  },
  {
   "cell_type": "code",
   "execution_count": 10,
   "metadata": {},
   "outputs": [
    {
     "data": {
      "text/plain": [
       "(30508, 7)"
      ]
     },
     "execution_count": 10,
     "metadata": {},
     "output_type": "execute_result"
    }
   ],
   "source": [
    "df[df['data_id'] == 'train'].shape"
   ]
  },
  {
   "cell_type": "code",
   "execution_count": 9,
   "metadata": {},
   "outputs": [
    {
     "data": {
      "text/plain": [
       "(14292, 7)"
      ]
     },
     "execution_count": 9,
     "metadata": {},
     "output_type": "execute_result"
    }
   ],
   "source": [
    "df[df['data_id'] == 'validation'].shape"
   ]
  },
  {
   "cell_type": "code",
   "execution_count": 12,
   "metadata": {},
   "outputs": [],
   "source": [
    "from datetime import datetime"
   ]
  },
  {
   "cell_type": "code",
   "execution_count": 14,
   "metadata": {},
   "outputs": [],
   "source": [
    "df_train = df[df['data_id'] == 'test']\n",
    "df_test = df[df['data_id'] == 'train']\n",
    "df_val = df[df['data_id'] == 'validation']\n"
   ]
  },
  {
   "cell_type": "code",
   "execution_count": 19,
   "metadata": {},
   "outputs": [
    {
     "data": {
      "text/html": [
       "<div>\n",
       "<style scoped>\n",
       "    .dataframe tbody tr th:only-of-type {\n",
       "        vertical-align: middle;\n",
       "    }\n",
       "\n",
       "    .dataframe tbody tr th {\n",
       "        vertical-align: top;\n",
       "    }\n",
       "\n",
       "    .dataframe thead th {\n",
       "        text-align: right;\n",
       "    }\n",
       "</style>\n",
       "<table border=\"1\" class=\"dataframe\">\n",
       "  <thead>\n",
       "    <tr style=\"text-align: right;\">\n",
       "      <th></th>\n",
       "      <th>answer</th>\n",
       "      <th>id</th>\n",
       "      <th>question</th>\n",
       "      <th>domain</th>\n",
       "      <th>data_id</th>\n",
       "      <th>posneg</th>\n",
       "    </tr>\n",
       "  </thead>\n",
       "  <tbody>\n",
       "    <tr>\n",
       "      <th>0</th>\n",
       "      <td>건강한 사람이 에너지 균형을 평형 상태로 유지하는 것은 중요합니다. 에너지 균형은 ...</td>\n",
       "      <td>42508ee0-c543-4338-878e-d98c6babee66</td>\n",
       "      <td>에너지 균형이란 무엇이며, 왜 건강에 중요한가요?</td>\n",
       "      <td>nutrition</td>\n",
       "      <td>test</td>\n",
       "      <td>1</td>\n",
       "    </tr>\n",
       "    <tr>\n",
       "      <th>1</th>\n",
       "      <td>수소, 산소, 질소 가스의 혼합물에서 평균 속도가 가장 빠른 분자는 수소입니다. 수...</td>\n",
       "      <td>4a437e7f-16c1-4c62-96b9-f173d44f4339</td>\n",
       "      <td>수소 분자가 다른 분자들보다 더 빠르게 움직이는 이유는 무엇인가요?</td>\n",
       "      <td>conceptual_physics</td>\n",
       "      <td>test</td>\n",
       "      <td>1</td>\n",
       "    </tr>\n",
       "    <tr>\n",
       "      <th>2</th>\n",
       "      <td>종이와 플라스틱은 재활용 가능한 자원입니다. 중학교 과학 수업에서 우리는 종이와 플...</td>\n",
       "      <td>d3c68be5-9cb1-4d6e-ba18-5f81cf89affb</td>\n",
       "      <td>종이와 플라스틱이 재활용 가능한 이유는 무엇인가요?</td>\n",
       "      <td>ARC_Challenge</td>\n",
       "      <td>test</td>\n",
       "      <td>1</td>\n",
       "    </tr>\n",
       "    <tr>\n",
       "      <th>3</th>\n",
       "      <td>마이애미파랑나비는 남부 플로리다에서 멸종 위기에 처한 종입니다. 이 나비의 개체수 ...</td>\n",
       "      <td>910107a6-2a42-41a2-b337-fbf22d6440fe</td>\n",
       "      <td>마이애미파랑나비의 주택 건설 증가에 대한 영향은 어떻게 나타나고 있나요?</td>\n",
       "      <td>ARC_Challenge</td>\n",
       "      <td>test</td>\n",
       "      <td>1</td>\n",
       "    </tr>\n",
       "    <tr>\n",
       "      <th>5</th>\n",
       "      <td>AIDS에 직면한 민족문화 공동체 연구에 따르면, 한 해 동안 섹스 파트너가 한 명...</td>\n",
       "      <td>80feb7f2-1b24-4a9d-87a3-4976e9304e74</td>\n",
       "      <td>성 건강 및 성 문화에 대한 연구에서 발견된 주요 결과는 무엇인가요?</td>\n",
       "      <td>human_sexuality</td>\n",
       "      <td>test</td>\n",
       "      <td>1</td>\n",
       "    </tr>\n",
       "    <tr>\n",
       "      <th>...</th>\n",
       "      <td>...</td>\n",
       "      <td>...</td>\n",
       "      <td>...</td>\n",
       "      <td>...</td>\n",
       "      <td>...</td>\n",
       "      <td>...</td>\n",
       "    </tr>\n",
       "    <tr>\n",
       "      <th>140712</th>\n",
       "      <td>원자는 원소의 기본 단위로, 원자 번호는 원소를 구분하는 번호입니다. 특정 원소가 ...</td>\n",
       "      <td>ffd02b96-cda9-4ef0-b232-de715a38b137</td>\n",
       "      <td>물체가 물에 떠 있는 상태에서 부력은 어떻게 생성됩니까?</td>\n",
       "      <td>conceptual_physics</td>\n",
       "      <td>test</td>\n",
       "      <td>0</td>\n",
       "    </tr>\n",
       "    <tr>\n",
       "      <th>140713</th>\n",
       "      <td>원자는 원소의 기본 단위로, 원자 번호는 원소를 구분하는 번호입니다. 특정 원소가 ...</td>\n",
       "      <td>ffd02b96-cda9-4ef0-b232-de715a38b137</td>\n",
       "      <td>달의 위치가 조수의 강도에 어떤 영향을 미칩니까?</td>\n",
       "      <td>conceptual_physics</td>\n",
       "      <td>test</td>\n",
       "      <td>0</td>\n",
       "    </tr>\n",
       "    <tr>\n",
       "      <th>140723</th>\n",
       "      <td>슈바르츠실트 반지름이라는 용어는 주로 블랙홀의 특성을 설명합니다. 블랙홀은 우주에서...</td>\n",
       "      <td>fffb2595-1e72-40b9-8171-4a9c45c76bea</td>\n",
       "      <td>바이오 연료 에너지는 어떤 종류의 에너지 자원과 가장 비슷하게 사용됩니까?</td>\n",
       "      <td>astronomy</td>\n",
       "      <td>test</td>\n",
       "      <td>0</td>\n",
       "    </tr>\n",
       "    <tr>\n",
       "      <th>140724</th>\n",
       "      <td>슈바르츠실트 반지름이라는 용어는 주로 블랙홀의 특성을 설명합니다. 블랙홀은 우주에서...</td>\n",
       "      <td>fffb2595-1e72-40b9-8171-4a9c45c76bea</td>\n",
       "      <td>다세포 생물체와 단세포 생물체 사이의 주요 차이점은 무엇입니까?</td>\n",
       "      <td>astronomy</td>\n",
       "      <td>test</td>\n",
       "      <td>0</td>\n",
       "    </tr>\n",
       "    <tr>\n",
       "      <th>140725</th>\n",
       "      <td>슈바르츠실트 반지름이라는 용어는 주로 블랙홀의 특성을 설명합니다. 블랙홀은 우주에서...</td>\n",
       "      <td>fffb2595-1e72-40b9-8171-4a9c45c76bea</td>\n",
       "      <td>트레일 믹스를 혼합물이라고 할 수 있는 이유는 무엇입니까?</td>\n",
       "      <td>astronomy</td>\n",
       "      <td>test</td>\n",
       "      <td>0</td>\n",
       "    </tr>\n",
       "  </tbody>\n",
       "</table>\n",
       "<p>95926 rows × 6 columns</p>\n",
       "</div>"
      ],
      "text/plain": [
       "                                                   answer  \\\n",
       "0       건강한 사람이 에너지 균형을 평형 상태로 유지하는 것은 중요합니다. 에너지 균형은 ...   \n",
       "1       수소, 산소, 질소 가스의 혼합물에서 평균 속도가 가장 빠른 분자는 수소입니다. 수...   \n",
       "2       종이와 플라스틱은 재활용 가능한 자원입니다. 중학교 과학 수업에서 우리는 종이와 플...   \n",
       "3       마이애미파랑나비는 남부 플로리다에서 멸종 위기에 처한 종입니다. 이 나비의 개체수 ...   \n",
       "5       AIDS에 직면한 민족문화 공동체 연구에 따르면, 한 해 동안 섹스 파트너가 한 명...   \n",
       "...                                                   ...   \n",
       "140712  원자는 원소의 기본 단위로, 원자 번호는 원소를 구분하는 번호입니다. 특정 원소가 ...   \n",
       "140713  원자는 원소의 기본 단위로, 원자 번호는 원소를 구분하는 번호입니다. 특정 원소가 ...   \n",
       "140723  슈바르츠실트 반지름이라는 용어는 주로 블랙홀의 특성을 설명합니다. 블랙홀은 우주에서...   \n",
       "140724  슈바르츠실트 반지름이라는 용어는 주로 블랙홀의 특성을 설명합니다. 블랙홀은 우주에서...   \n",
       "140725  슈바르츠실트 반지름이라는 용어는 주로 블랙홀의 특성을 설명합니다. 블랙홀은 우주에서...   \n",
       "\n",
       "                                          id  \\\n",
       "0       42508ee0-c543-4338-878e-d98c6babee66   \n",
       "1       4a437e7f-16c1-4c62-96b9-f173d44f4339   \n",
       "2       d3c68be5-9cb1-4d6e-ba18-5f81cf89affb   \n",
       "3       910107a6-2a42-41a2-b337-fbf22d6440fe   \n",
       "5       80feb7f2-1b24-4a9d-87a3-4976e9304e74   \n",
       "...                                      ...   \n",
       "140712  ffd02b96-cda9-4ef0-b232-de715a38b137   \n",
       "140713  ffd02b96-cda9-4ef0-b232-de715a38b137   \n",
       "140723  fffb2595-1e72-40b9-8171-4a9c45c76bea   \n",
       "140724  fffb2595-1e72-40b9-8171-4a9c45c76bea   \n",
       "140725  fffb2595-1e72-40b9-8171-4a9c45c76bea   \n",
       "\n",
       "                                         question              domain data_id  \\\n",
       "0                     에너지 균형이란 무엇이며, 왜 건강에 중요한가요?           nutrition    test   \n",
       "1           수소 분자가 다른 분자들보다 더 빠르게 움직이는 이유는 무엇인가요?  conceptual_physics    test   \n",
       "2                    종이와 플라스틱이 재활용 가능한 이유는 무엇인가요?       ARC_Challenge    test   \n",
       "3        마이애미파랑나비의 주택 건설 증가에 대한 영향은 어떻게 나타나고 있나요?       ARC_Challenge    test   \n",
       "5          성 건강 및 성 문화에 대한 연구에서 발견된 주요 결과는 무엇인가요?     human_sexuality    test   \n",
       "...                                           ...                 ...     ...   \n",
       "140712            물체가 물에 떠 있는 상태에서 부력은 어떻게 생성됩니까?  conceptual_physics    test   \n",
       "140713                달의 위치가 조수의 강도에 어떤 영향을 미칩니까?  conceptual_physics    test   \n",
       "140723  바이오 연료 에너지는 어떤 종류의 에너지 자원과 가장 비슷하게 사용됩니까?           astronomy    test   \n",
       "140724        다세포 생물체와 단세포 생물체 사이의 주요 차이점은 무엇입니까?           astronomy    test   \n",
       "140725           트레일 믹스를 혼합물이라고 할 수 있는 이유는 무엇입니까?           astronomy    test   \n",
       "\n",
       "        posneg  \n",
       "0            1  \n",
       "1            1  \n",
       "2            1  \n",
       "3            1  \n",
       "5            1  \n",
       "...        ...  \n",
       "140712       0  \n",
       "140713       0  \n",
       "140723       0  \n",
       "140724       0  \n",
       "140725       0  \n",
       "\n",
       "[95926 rows x 6 columns]"
      ]
     },
     "execution_count": 19,
     "metadata": {},
     "output_type": "execute_result"
    }
   ],
   "source": [
    "df_train = df_train.drop(columns=['Unnamed: 0']).rename(columns={'content':'answer','Domain':'domain', 'PosNeg': 'posneg'})\n",
    "df_train"
   ]
  },
  {
   "cell_type": "code",
   "execution_count": 20,
   "metadata": {},
   "outputs": [],
   "source": [
    "df_test = df_test.drop(columns=['Unnamed: 0']).rename(columns={'content':'answer','Domain':'domain', 'PosNeg': 'posneg'})\n",
    "df_val = df_val.drop(columns=['Unnamed: 0']).rename(columns={'content':'answer','Domain':'domain', 'PosNeg': 'posneg'})"
   ]
  },
  {
   "cell_type": "code",
   "execution_count": 27,
   "metadata": {},
   "outputs": [],
   "source": [
    "df_train['posneg'] = df_train['posneg'].astype(float)\n",
    "df_val['posneg'] = df_val['posneg'].astype(float)\n",
    "df_test['posneg'] = df_test['posneg'].astype(float)"
   ]
  },
  {
   "cell_type": "code",
   "execution_count": 29,
   "metadata": {},
   "outputs": [
    {
     "data": {
      "text/plain": [
       "array([1., 0.])"
      ]
     },
     "execution_count": 29,
     "metadata": {},
     "output_type": "execute_result"
    }
   ],
   "source": [
    "df_train['posneg'].unique()"
   ]
  },
  {
   "cell_type": "code",
   "execution_count": 30,
   "metadata": {},
   "outputs": [
    {
     "name": "stdout",
     "output_type": "stream",
     "text": [
      "<class 'pandas.core.frame.DataFrame'>\n",
      "Index: 95926 entries, 0 to 140725\n",
      "Data columns (total 6 columns):\n",
      " #   Column    Non-Null Count  Dtype  \n",
      "---  ------    --------------  -----  \n",
      " 0   answer    95926 non-null  object \n",
      " 1   id        95926 non-null  object \n",
      " 2   question  95730 non-null  object \n",
      " 3   domain    95926 non-null  object \n",
      " 4   data_id   95926 non-null  object \n",
      " 5   posneg    95926 non-null  float64\n",
      "dtypes: float64(1), object(5)\n",
      "memory usage: 5.1+ MB\n"
     ]
    }
   ],
   "source": [
    "df_train.info()"
   ]
  },
  {
   "cell_type": "code",
   "execution_count": 31,
   "metadata": {},
   "outputs": [
    {
     "name": "stdout",
     "output_type": "stream",
     "text": [
      "<class 'pandas.core.frame.DataFrame'>\n",
      "Index: 14292 entries, 4 to 140686\n",
      "Data columns (total 6 columns):\n",
      " #   Column    Non-Null Count  Dtype  \n",
      "---  ------    --------------  -----  \n",
      " 0   answer    14292 non-null  object \n",
      " 1   id        14292 non-null  object \n",
      " 2   question  14263 non-null  object \n",
      " 3   domain    14292 non-null  object \n",
      " 4   data_id   14292 non-null  object \n",
      " 5   posneg    14292 non-null  float64\n",
      "dtypes: float64(1), object(5)\n",
      "memory usage: 781.6+ KB\n"
     ]
    }
   ],
   "source": [
    "df_val.info()"
   ]
  },
  {
   "cell_type": "code",
   "execution_count": 32,
   "metadata": {},
   "outputs": [
    {
     "name": "stdout",
     "output_type": "stream",
     "text": [
      "<class 'pandas.core.frame.DataFrame'>\n",
      "Index: 30508 entries, 8 to 140722\n",
      "Data columns (total 6 columns):\n",
      " #   Column    Non-Null Count  Dtype  \n",
      "---  ------    --------------  -----  \n",
      " 0   answer    30508 non-null  object \n",
      " 1   id        30508 non-null  object \n",
      " 2   question  30436 non-null  object \n",
      " 3   domain    30508 non-null  object \n",
      " 4   data_id   30508 non-null  object \n",
      " 5   posneg    30508 non-null  float64\n",
      "dtypes: float64(1), object(5)\n",
      "memory usage: 1.6+ MB\n"
     ]
    }
   ],
   "source": [
    "df_test.info()"
   ]
  },
  {
   "cell_type": "code",
   "execution_count": 28,
   "metadata": {},
   "outputs": [],
   "source": [
    "df_train.to_csv(f'data/train_ir_{POSTFIX}.csv', index=False)\n",
    "df_test.to_csv(f'data/test_ir_{POSTFIX}.csv', index=False)\n",
    "df_val.to_csv(f'data/val_ir_{POSTFIX}.csv', index=False)"
   ]
  },
  {
   "cell_type": "code",
   "execution_count": null,
   "metadata": {},
   "outputs": [],
   "source": []
  }
 ],
 "metadata": {
  "kernelspec": {
   "display_name": "base",
   "language": "python",
   "name": "python3"
  },
  "language_info": {
   "codemirror_mode": {
    "name": "ipython",
    "version": 3
   },
   "file_extension": ".py",
   "mimetype": "text/x-python",
   "name": "python",
   "nbconvert_exporter": "python",
   "pygments_lexer": "ipython3",
   "version": "3.11.7"
  }
 },
 "nbformat": 4,
 "nbformat_minor": 2
}
