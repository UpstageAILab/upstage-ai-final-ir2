{
 "cells": [
  {
   "cell_type": "code",
   "execution_count": 11,
   "metadata": {},
   "outputs": [],
   "source": [
    "from torch.utils.data import DataLoader\n",
    "import math\n",
    "from sentence_transformers import SentenceTransformer, LoggingHandler, losses, util, InputExample\n",
    "from sentence_transformers.evaluation import EmbeddingSimilarityEvaluator\n",
    "import logging\n",
    "from datetime import datetime\n",
    "import os\n",
    "import gzip\n",
    "import csv\n",
    "import pandas as pd\n",
    "import random"
   ]
  },
  {
   "cell_type": "code",
   "execution_count": 12,
   "metadata": {},
   "outputs": [],
   "source": [
    "#### Just some code to print debug information to stdout\n",
    "logging.basicConfig(\n",
    "    format=\"%(asctime)s - %(message)s\", datefmt=\"%Y-%m-%d %H:%M:%S\", level=logging.INFO, handlers=[LoggingHandler()]\n",
    ")\n",
    "#### /print debug information to stdout"
   ]
  },
  {
   "cell_type": "code",
   "execution_count": 13,
   "metadata": {},
   "outputs": [
    {
     "name": "stdout",
     "output_type": "stream",
     "text": [
      "2024-05-02 11:54:46 - Load pretrained SentenceTransformer: snunlp/KR-SBERT-V40K-klueNLI-augSTS\n",
      "2024-05-02 11:54:46 - Use pytorch device: cuda\n"
     ]
    }
   ],
   "source": [
    "# Read the dataset\n",
    "model_name = \"snunlp/KR-SBERT-V40K-klueNLI-augSTS\"\n",
    "train_batch_size = 16\n",
    "num_epochs = 4\n",
    "model_save_path = (\n",
    "    \"output/scientific_continue_training_kr_sbert_v40k_klueNLI_augSTS\"\n",
    ")\n",
    "# Load a pre-trained sentence transformer model\n",
    "model = SentenceTransformer(model_name)"
   ]
  },
  {
   "cell_type": "code",
   "execution_count": 14,
   "metadata": {},
   "outputs": [],
   "source": [
    "data_path = 'data'\n",
    "train_df = pd.read_csv(os.path.join(data_path,'train_ir.csv'))\n",
    "val_df = pd.read_csv(os.path.join(data_path,'val_ir.csv'))\n",
    "test_df = pd.read_csv(os.path.join(data_path,'test_ir.csv'))"
   ]
  },
  {
   "cell_type": "code",
   "execution_count": 15,
   "metadata": {},
   "outputs": [
    {
     "data": {
      "text/plain": [
       "((2912, 3), (434, 3), (926, 3))"
      ]
     },
     "execution_count": 15,
     "metadata": {},
     "output_type": "execute_result"
    }
   ],
   "source": [
    "train_df.shape, val_df.shape, test_df.shape"
   ]
  },
  {
   "cell_type": "code",
   "execution_count": 16,
   "metadata": {},
   "outputs": [
    {
     "name": "stdout",
     "output_type": "stream",
     "text": [
      "2024-05-02 11:54:49 - Converting train dataset to DataLoader\n"
     ]
    }
   ],
   "source": [
    "# Convert the dataset to a DataLoader ready for training\n",
    "logging.info(\"Converting train dataset to DataLoader\")\n",
    "\n",
    "train_samples = []\n",
    "val_samples = []\n",
    "test_samples = []\n",
    "\n",
    "for idx, (answer, question, domain) in train_df.iterrows():\n",
    "    train_samples.append(InputExample(texts=[question, answer], label=random.uniform(0.8, 1)))\n",
    "\n",
    "for idx, (answer, question, domain) in val_df.iterrows():\n",
    "    val_samples.append(InputExample(texts=[question, answer], label=random.uniform(0.8, 1)))\n",
    "\n",
    "for idx, (answer, question, domain) in test_df.iterrows():\n",
    "    test_samples.append(InputExample(texts=[question, answer], label=random.uniform(0.8, 1)))\n",
    "train_dataloader = DataLoader(train_samples, shuffle=True, batch_size=train_batch_size)"
   ]
  },
  {
   "cell_type": "code",
   "execution_count": 19,
   "metadata": {},
   "outputs": [
    {
     "name": "stdout",
     "output_type": "stream",
     "text": [
      "2024-05-02 11:54:52 - Read Scientific val dataset\n"
     ]
    }
   ],
   "source": [
    "train_loss = losses.CosineSimilarityLoss(model=model)\n",
    "# Development set: Measure correlation between cosine score and gold labels\n",
    "logging.info(\"Read Scientific val dataset\")\n",
    "evaluator = EmbeddingSimilarityEvaluator.from_input_examples(val_samples, name=\"scientific-val\")"
   ]
  },
  {
   "cell_type": "code",
   "execution_count": 20,
   "metadata": {},
   "outputs": [
    {
     "name": "stdout",
     "output_type": "stream",
     "text": [
      "2024-05-02 11:54:52 - Warmup-steps: 292\n"
     ]
    }
   ],
   "source": [
    "# Configure the training. We skip evaluation in this example\n",
    "warmup_steps = math.ceil(len(train_dataloader) * num_epochs * 0.1)  # 10% of train data for warm-up\n",
    "logging.info(\"Warmup-steps: {}\".format(warmup_steps))"
   ]
  },
  {
   "cell_type": "code",
   "execution_count": 21,
   "metadata": {},
   "outputs": [
    {
     "data": {
      "application/vnd.jupyter.widget-view+json": {
       "model_id": "6ec71ea27f584f72a3269bdb474c5741",
       "version_major": 2,
       "version_minor": 0
      },
      "text/plain": [
       "Epoch:   0%|          | 0/4 [00:00<?, ?it/s]"
      ]
     },
     "metadata": {},
     "output_type": "display_data"
    },
    {
     "data": {
      "application/vnd.jupyter.widget-view+json": {
       "model_id": "6260de331ffd497fa7e0263d6ea97215",
       "version_major": 2,
       "version_minor": 0
      },
      "text/plain": [
       "Iteration:   0%|          | 0/728 [00:00<?, ?it/s]"
      ]
     },
     "metadata": {},
     "output_type": "display_data"
    },
    {
     "name": "stdout",
     "output_type": "stream",
     "text": [
      "2024-05-02 11:55:25 - EmbeddingSimilarityEvaluator: Evaluating the model on scientific-val dataset after epoch 0:\n",
      "2024-05-02 11:55:25 - Cosine-Similarity :\tPearson: 0.0144\tSpearman: 0.0113\n",
      "2024-05-02 11:55:25 - Manhattan-Distance:\tPearson: -0.0064\tSpearman: -0.0019\n",
      "2024-05-02 11:55:25 - Euclidean-Distance:\tPearson: -0.0048\tSpearman: -0.0000\n",
      "2024-05-02 11:55:25 - Dot-Product-Similarity:\tPearson: 0.0619\tSpearman: 0.0569\n",
      "2024-05-02 11:55:25 - Save model to output/scientific_continue_training_kr_sbert_v40k_klueNLI_augSTS\n"
     ]
    },
    {
     "data": {
      "application/vnd.jupyter.widget-view+json": {
       "model_id": "a3310a09394a4b78ba3b991425fc8869",
       "version_major": 2,
       "version_minor": 0
      },
      "text/plain": [
       "Iteration:   0%|          | 0/728 [00:00<?, ?it/s]"
      ]
     },
     "metadata": {},
     "output_type": "display_data"
    },
    {
     "name": "stdout",
     "output_type": "stream",
     "text": [
      "2024-05-02 11:55:58 - EmbeddingSimilarityEvaluator: Evaluating the model on scientific-val dataset after epoch 1:\n",
      "2024-05-02 11:55:59 - Cosine-Similarity :\tPearson: 0.0187\tSpearman: 0.0141\n",
      "2024-05-02 11:55:59 - Manhattan-Distance:\tPearson: 0.0082\tSpearman: 0.0050\n",
      "2024-05-02 11:55:59 - Euclidean-Distance:\tPearson: 0.0057\tSpearman: 0.0021\n",
      "2024-05-02 11:55:59 - Dot-Product-Similarity:\tPearson: 0.0708\tSpearman: 0.0769\n",
      "2024-05-02 11:55:59 - Save model to output/scientific_continue_training_kr_sbert_v40k_klueNLI_augSTS\n"
     ]
    },
    {
     "data": {
      "application/vnd.jupyter.widget-view+json": {
       "model_id": "41049c9bf132422a959556ab45ab58f1",
       "version_major": 2,
       "version_minor": 0
      },
      "text/plain": [
       "Iteration:   0%|          | 0/728 [00:00<?, ?it/s]"
      ]
     },
     "metadata": {},
     "output_type": "display_data"
    },
    {
     "name": "stdout",
     "output_type": "stream",
     "text": [
      "2024-05-02 11:56:31 - EmbeddingSimilarityEvaluator: Evaluating the model on scientific-val dataset after epoch 2:\n",
      "2024-05-02 11:56:32 - Cosine-Similarity :\tPearson: 0.0155\tSpearman: 0.0193\n",
      "2024-05-02 11:56:32 - Manhattan-Distance:\tPearson: 0.0135\tSpearman: 0.0100\n",
      "2024-05-02 11:56:32 - Euclidean-Distance:\tPearson: 0.0130\tSpearman: 0.0076\n",
      "2024-05-02 11:56:32 - Dot-Product-Similarity:\tPearson: 0.0582\tSpearman: 0.0622\n"
     ]
    },
    {
     "data": {
      "application/vnd.jupyter.widget-view+json": {
       "model_id": "86e2dd1c54c443b2986a65d5d1e51877",
       "version_major": 2,
       "version_minor": 0
      },
      "text/plain": [
       "Iteration:   0%|          | 0/728 [00:00<?, ?it/s]"
      ]
     },
     "metadata": {},
     "output_type": "display_data"
    },
    {
     "name": "stdout",
     "output_type": "stream",
     "text": [
      "2024-05-02 11:57:04 - EmbeddingSimilarityEvaluator: Evaluating the model on scientific-val dataset after epoch 3:\n",
      "2024-05-02 11:57:05 - Cosine-Similarity :\tPearson: 0.0386\tSpearman: 0.0364\n",
      "2024-05-02 11:57:05 - Manhattan-Distance:\tPearson: 0.0397\tSpearman: 0.0296\n",
      "2024-05-02 11:57:05 - Euclidean-Distance:\tPearson: 0.0362\tSpearman: 0.0280\n",
      "2024-05-02 11:57:05 - Dot-Product-Similarity:\tPearson: 0.0755\tSpearman: 0.0887\n",
      "2024-05-02 11:57:05 - Save model to output/scientific_continue_training_kr_sbert_v40k_klueNLI_augSTS\n",
      "2024-05-02 11:57:05 - Load pretrained SentenceTransformer: output/scientific_continue_training_kr_sbert_v40k_klueNLI_augSTS\n",
      "2024-05-02 11:57:05 - Use pytorch device: cuda\n",
      "2024-05-02 11:57:05 - EmbeddingSimilarityEvaluator: Evaluating the model on scientific-test dataset:\n",
      "2024-05-02 11:57:07 - Cosine-Similarity :\tPearson: -0.0433\tSpearman: -0.0293\n",
      "2024-05-02 11:57:07 - Manhattan-Distance:\tPearson: -0.0380\tSpearman: -0.0261\n",
      "2024-05-02 11:57:07 - Euclidean-Distance:\tPearson: -0.0398\tSpearman: -0.0281\n",
      "2024-05-02 11:57:07 - Dot-Product-Similarity:\tPearson: -0.0450\tSpearman: -0.0376\n"
     ]
    },
    {
     "data": {
      "text/plain": [
       "-0.02609918354261913"
      ]
     },
     "execution_count": 21,
     "metadata": {},
     "output_type": "execute_result"
    }
   ],
   "source": [
    "# Train the model\n",
    "model.fit(\n",
    "    train_objectives=[(train_dataloader, train_loss)],\n",
    "    evaluator=evaluator,\n",
    "    epochs=num_epochs,\n",
    "    evaluation_steps=1000,\n",
    "    warmup_steps=warmup_steps,\n",
    "    output_path=model_save_path,\n",
    ")\n",
    "\n",
    "\n",
    "##############################################################################\n",
    "#\n",
    "# Load the stored model and evaluate its performance on Scientific dataset\n",
    "#\n",
    "##############################################################################\n",
    "\n",
    "model = SentenceTransformer(model_save_path)\n",
    "test_evaluator = EmbeddingSimilarityEvaluator.from_input_examples(test_samples, name=\"scientific-test\")\n",
    "test_evaluator(model, output_path=model_save_path)"
   ]
  },
  {
   "cell_type": "code",
   "execution_count": null,
   "metadata": {},
   "outputs": [],
   "source": []
  }
 ],
 "metadata": {
  "kernelspec": {
   "display_name": "base",
   "language": "python",
   "name": "python3"
  },
  "language_info": {
   "codemirror_mode": {
    "name": "ipython",
    "version": 3
   },
   "file_extension": ".py",
   "mimetype": "text/x-python",
   "name": "python",
   "nbconvert_exporter": "python",
   "pygments_lexer": "ipython3",
   "version": "3.11.7"
  }
 },
 "nbformat": 4,
 "nbformat_minor": 2
}
