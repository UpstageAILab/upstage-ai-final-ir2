{
 "cells": [
  {
   "cell_type": "code",
   "execution_count": 27,
   "metadata": {},
   "outputs": [],
   "source": [
    "from torch.utils.data import DataLoader\n",
    "import math\n",
    "from sentence_transformers import SentenceTransformer, LoggingHandler, losses, util, InputExample\n",
    "from sentence_transformers.evaluation import EmbeddingSimilarityEvaluator\n",
    "import logging\n",
    "from datetime import datetime\n",
    "import os\n",
    "import gzip\n",
    "import csv\n",
    "import pandas as pd\n",
    "import random"
   ]
  },
  {
   "cell_type": "code",
   "execution_count": 28,
   "metadata": {},
   "outputs": [],
   "source": [
    "#### Just some code to print debug information to stdout\n",
    "logging.basicConfig(\n",
    "    format=\"%(asctime)s - %(message)s\", datefmt=\"%Y-%m-%d %H:%M:%S\", level=logging.INFO, handlers=[LoggingHandler()]\n",
    ")\n",
    "#### /print debug information to stdout"
   ]
  },
  {
   "cell_type": "code",
   "execution_count": 29,
   "metadata": {},
   "outputs": [
    {
     "name": "stdout",
     "output_type": "stream",
     "text": [
      "2024-05-02 15:55:09 - Load pretrained SentenceTransformer: snunlp/KR-SBERT-V40K-klueNLI-augSTS\n",
      "2024-05-02 15:55:09 - Use pytorch device: cuda\n"
     ]
    }
   ],
   "source": [
    "# Read the dataset\n",
    "model_name = \"snunlp/KR-SBERT-V40K-klueNLI-augSTS\"\n",
    "train_batch_size = 16\n",
    "num_epochs = 4\n",
    "model_save_path = (\n",
    "    \"output/scientific_continue_training_kr_sbert_v40k_klueNLI_augSTS\"\n",
    ")\n",
    "# Load a pre-trained sentence transformer model\n",
    "model = SentenceTransformer(model_name)"
   ]
  },
  {
   "cell_type": "code",
   "execution_count": 30,
   "metadata": {},
   "outputs": [],
   "source": [
    "data_path = 'data'\n",
    "train_df = pd.read_csv(os.path.join(data_path, 'train_ir_2024-05-02_15-46.csv'))\n",
    "val_df = pd.read_csv(os.path.join(data_path, 'val_ir_2024-05-02_15-46.csv'))\n",
    "test_df = pd.read_csv(os.path.join(data_path, 'test_ir_2024-05-02_15-46.csv'))"
   ]
  },
  {
   "cell_type": "code",
   "execution_count": 31,
   "metadata": {},
   "outputs": [
    {
     "data": {
      "text/plain": [
       "((95926, 6), (14292, 6), (30508, 6))"
      ]
     },
     "execution_count": 31,
     "metadata": {},
     "output_type": "execute_result"
    }
   ],
   "source": [
    "train_df.shape, val_df.shape, test_df.shape"
   ]
  },
  {
   "cell_type": "code",
   "execution_count": 32,
   "metadata": {},
   "outputs": [
    {
     "data": {
      "text/html": [
       "<div>\n",
       "<style scoped>\n",
       "    .dataframe tbody tr th:only-of-type {\n",
       "        vertical-align: middle;\n",
       "    }\n",
       "\n",
       "    .dataframe tbody tr th {\n",
       "        vertical-align: top;\n",
       "    }\n",
       "\n",
       "    .dataframe thead th {\n",
       "        text-align: right;\n",
       "    }\n",
       "</style>\n",
       "<table border=\"1\" class=\"dataframe\">\n",
       "  <thead>\n",
       "    <tr style=\"text-align: right;\">\n",
       "      <th></th>\n",
       "      <th>answer</th>\n",
       "      <th>id</th>\n",
       "      <th>question</th>\n",
       "      <th>domain</th>\n",
       "      <th>data_id</th>\n",
       "      <th>posneg</th>\n",
       "    </tr>\n",
       "  </thead>\n",
       "  <tbody>\n",
       "    <tr>\n",
       "      <th>0</th>\n",
       "      <td>건강한 사람이 에너지 균형을 평형 상태로 유지하는 것은 중요합니다. 에너지 균형은 ...</td>\n",
       "      <td>42508ee0-c543-4338-878e-d98c6babee66</td>\n",
       "      <td>에너지 균형이란 무엇이며, 왜 건강에 중요한가요?</td>\n",
       "      <td>nutrition</td>\n",
       "      <td>test</td>\n",
       "      <td>1.0</td>\n",
       "    </tr>\n",
       "    <tr>\n",
       "      <th>1</th>\n",
       "      <td>수소, 산소, 질소 가스의 혼합물에서 평균 속도가 가장 빠른 분자는 수소입니다. 수...</td>\n",
       "      <td>4a437e7f-16c1-4c62-96b9-f173d44f4339</td>\n",
       "      <td>수소 분자가 다른 분자들보다 더 빠르게 움직이는 이유는 무엇인가요?</td>\n",
       "      <td>conceptual_physics</td>\n",
       "      <td>test</td>\n",
       "      <td>1.0</td>\n",
       "    </tr>\n",
       "    <tr>\n",
       "      <th>2</th>\n",
       "      <td>종이와 플라스틱은 재활용 가능한 자원입니다. 중학교 과학 수업에서 우리는 종이와 플...</td>\n",
       "      <td>d3c68be5-9cb1-4d6e-ba18-5f81cf89affb</td>\n",
       "      <td>종이와 플라스틱이 재활용 가능한 이유는 무엇인가요?</td>\n",
       "      <td>ARC_Challenge</td>\n",
       "      <td>test</td>\n",
       "      <td>1.0</td>\n",
       "    </tr>\n",
       "    <tr>\n",
       "      <th>3</th>\n",
       "      <td>마이애미파랑나비는 남부 플로리다에서 멸종 위기에 처한 종입니다. 이 나비의 개체수 ...</td>\n",
       "      <td>910107a6-2a42-41a2-b337-fbf22d6440fe</td>\n",
       "      <td>마이애미파랑나비의 주택 건설 증가에 대한 영향은 어떻게 나타나고 있나요?</td>\n",
       "      <td>ARC_Challenge</td>\n",
       "      <td>test</td>\n",
       "      <td>1.0</td>\n",
       "    </tr>\n",
       "    <tr>\n",
       "      <th>4</th>\n",
       "      <td>AIDS에 직면한 민족문화 공동체 연구에 따르면, 한 해 동안 섹스 파트너가 한 명...</td>\n",
       "      <td>80feb7f2-1b24-4a9d-87a3-4976e9304e74</td>\n",
       "      <td>성 건강 및 성 문화에 대한 연구에서 발견된 주요 결과는 무엇인가요?</td>\n",
       "      <td>human_sexuality</td>\n",
       "      <td>test</td>\n",
       "      <td>1.0</td>\n",
       "    </tr>\n",
       "  </tbody>\n",
       "</table>\n",
       "</div>"
      ],
      "text/plain": [
       "                                              answer  \\\n",
       "0  건강한 사람이 에너지 균형을 평형 상태로 유지하는 것은 중요합니다. 에너지 균형은 ...   \n",
       "1  수소, 산소, 질소 가스의 혼합물에서 평균 속도가 가장 빠른 분자는 수소입니다. 수...   \n",
       "2  종이와 플라스틱은 재활용 가능한 자원입니다. 중학교 과학 수업에서 우리는 종이와 플...   \n",
       "3  마이애미파랑나비는 남부 플로리다에서 멸종 위기에 처한 종입니다. 이 나비의 개체수 ...   \n",
       "4  AIDS에 직면한 민족문화 공동체 연구에 따르면, 한 해 동안 섹스 파트너가 한 명...   \n",
       "\n",
       "                                     id  \\\n",
       "0  42508ee0-c543-4338-878e-d98c6babee66   \n",
       "1  4a437e7f-16c1-4c62-96b9-f173d44f4339   \n",
       "2  d3c68be5-9cb1-4d6e-ba18-5f81cf89affb   \n",
       "3  910107a6-2a42-41a2-b337-fbf22d6440fe   \n",
       "4  80feb7f2-1b24-4a9d-87a3-4976e9304e74   \n",
       "\n",
       "                                   question              domain data_id  \\\n",
       "0               에너지 균형이란 무엇이며, 왜 건강에 중요한가요?           nutrition    test   \n",
       "1     수소 분자가 다른 분자들보다 더 빠르게 움직이는 이유는 무엇인가요?  conceptual_physics    test   \n",
       "2              종이와 플라스틱이 재활용 가능한 이유는 무엇인가요?       ARC_Challenge    test   \n",
       "3  마이애미파랑나비의 주택 건설 증가에 대한 영향은 어떻게 나타나고 있나요?       ARC_Challenge    test   \n",
       "4    성 건강 및 성 문화에 대한 연구에서 발견된 주요 결과는 무엇인가요?     human_sexuality    test   \n",
       "\n",
       "   posneg  \n",
       "0     1.0  \n",
       "1     1.0  \n",
       "2     1.0  \n",
       "3     1.0  \n",
       "4     1.0  "
      ]
     },
     "execution_count": 32,
     "metadata": {},
     "output_type": "execute_result"
    }
   ],
   "source": [
    "train_df.head()"
   ]
  },
  {
   "cell_type": "code",
   "execution_count": 48,
   "metadata": {},
   "outputs": [
    {
     "name": "stdout",
     "output_type": "stream",
     "text": [
      "2024-05-02 16:02:39 - Converting train dataset to DataLoader\n"
     ]
    }
   ],
   "source": [
    "# Convert the dataset to a DataLoader ready for training\n",
    "logging.info(\"Converting train dataset to DataLoader\")\n",
    "\n",
    "train_samples = []\n",
    "val_samples = []\n",
    "test_samples = []\n",
    "\n",
    "for idx, (answer, id, question, domain, data_id, posneg) in train_df.iterrows():\n",
    "    if type(answer) is not str or type(question) is not str:\n",
    "        continue\n",
    "    train_samples.append(InputExample(texts=[question, answer], label=random.uniform(0.8, 1) if posneg == 1.0 else random.uniform(0, 0.2)))\n",
    "\n",
    "for idx, (answer, id, question, domain, data_id, posneg) in val_df.iterrows():\n",
    "    if type(answer) is not str or type(question) is not str:\n",
    "        continue\n",
    "    val_samples.append(InputExample(texts=[question, answer], label=random.uniform(0.8, 1) if posneg == 1.0 else random.uniform(0, 0.2)))\n",
    "\n",
    "for idx, (answer, id, question, domain, data_id, posneg) in test_df.iterrows():\n",
    "    if type(answer) is not str or type(question) is not str:\n",
    "        continue\n",
    "    test_samples.append(InputExample(texts=[question, answer], label=random.uniform(0.8, 1) if posneg == 1.0 else random.uniform(0, 0.2)))\n",
    "train_dataloader = DataLoader(train_samples, shuffle=True, batch_size=train_batch_size)"
   ]
  },
  {
   "cell_type": "code",
   "execution_count": 49,
   "metadata": {},
   "outputs": [
    {
     "name": "stdout",
     "output_type": "stream",
     "text": [
      "2024-05-02 16:02:42 - Read Scientific val dataset\n"
     ]
    }
   ],
   "source": [
    "train_loss = losses.CosineSimilarityLoss(model=model)\n",
    "# Development set: Measure correlation between cosine score and gold labels\n",
    "logging.info(\"Read Scientific val dataset\")\n",
    "evaluator = EmbeddingSimilarityEvaluator.from_input_examples(val_samples, name=\"scientific-val\")"
   ]
  },
  {
   "cell_type": "code",
   "execution_count": 50,
   "metadata": {},
   "outputs": [
    {
     "name": "stdout",
     "output_type": "stream",
     "text": [
      "2024-05-02 16:02:42 - Warmup-steps: 2394\n"
     ]
    }
   ],
   "source": [
    "# Configure the training. We skip evaluation in this example\n",
    "warmup_steps = math.ceil(len(train_dataloader) * num_epochs * 0.1)  # 10% of train data for warm-up\n",
    "logging.info(\"Warmup-steps: {}\".format(warmup_steps))"
   ]
  },
  {
   "cell_type": "code",
   "execution_count": 51,
   "metadata": {},
   "outputs": [
    {
     "data": {
      "application/vnd.jupyter.widget-view+json": {
       "model_id": "d4bc6d5c46aa478da1be908996eb1d37",
       "version_major": 2,
       "version_minor": 0
      },
      "text/plain": [
       "Epoch:   0%|          | 0/4 [00:00<?, ?it/s]"
      ]
     },
     "metadata": {},
     "output_type": "display_data"
    },
    {
     "data": {
      "application/vnd.jupyter.widget-view+json": {
       "model_id": "9596db58a5e1402894e7013e96cf3a2e",
       "version_major": 2,
       "version_minor": 0
      },
      "text/plain": [
       "Iteration:   0%|          | 0/5984 [00:00<?, ?it/s]"
      ]
     },
     "metadata": {},
     "output_type": "display_data"
    }
   ],
   "source": [
    "# Train the model\n",
    "model.fit(\n",
    "    train_objectives=[(train_dataloader, train_loss)],\n",
    "    evaluator=evaluator,\n",
    "    epochs=num_epochs,\n",
    "    evaluation_steps=1000,\n",
    "    warmup_steps=warmup_steps,\n",
    "    output_path=model_save_path,\n",
    ")\n",
    "\n",
    "\n",
    "##############################################################################\n",
    "#\n",
    "# Load the stored model and evaluate its performance on Scientific dataset\n",
    "#\n",
    "##############################################################################\n",
    "\n",
    "model = SentenceTransformer(model_save_path)\n",
    "test_evaluator = EmbeddingSimilarityEvaluator.from_input_examples(test_samples, name=\"scientific-test\")\n",
    "test_evaluator(model, output_path=model_save_path)"
   ]
  },
  {
   "cell_type": "code",
   "execution_count": null,
   "metadata": {},
   "outputs": [],
   "source": []
  }
 ],
 "metadata": {
  "kernelspec": {
   "display_name": "base",
   "language": "python",
   "name": "python3"
  },
  "language_info": {
   "codemirror_mode": {
    "name": "ipython",
    "version": 3
   },
   "file_extension": ".py",
   "mimetype": "text/x-python",
   "name": "python",
   "nbconvert_exporter": "python",
   "pygments_lexer": "ipython3",
   "version": "3.11.7"
  }
 },
 "nbformat": 4,
 "nbformat_minor": 2
}
