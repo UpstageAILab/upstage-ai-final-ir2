{
 "cells": [
  {
   "cell_type": "code",
   "execution_count": 12,
   "metadata": {},
   "outputs": [],
   "source": [
    "!pip install -q -U google-generativeai"
   ]
  },
  {
   "cell_type": "markdown",
   "metadata": {},
   "source": [
    "# Generating Question via Google GEMINI  \n",
    "아래 링크에서 사용법 참조  \n",
    "https://ai.google.dev/gemini-api/docs/get-started/python?hl=ko"
   ]
  },
  {
   "cell_type": "code",
   "execution_count": 1,
   "metadata": {},
   "outputs": [],
   "source": [
    "import os\n",
    "GOOGLE_API_KEY = os.getenv('GOOGLE_API_KEY')"
   ]
  },
  {
   "cell_type": "code",
   "execution_count": 2,
   "metadata": {},
   "outputs": [],
   "source": [
    "import pathlib\n",
    "import textwrap\n",
    "\n",
    "import google.generativeai as genai\n",
    "\n",
    "from IPython.display import display\n",
    "from IPython.display import Markdown\n",
    "\n",
    "\n",
    "def to_markdown(text):\n",
    "  text = text.replace('•', '  *')\n",
    "  return Markdown(textwrap.indent(text, '> ', predicate=lambda _: True))"
   ]
  },
  {
   "cell_type": "code",
   "execution_count": 3,
   "metadata": {},
   "outputs": [],
   "source": [
    "# from google.colab import userdata\n",
    "# Or use `os.getenv('GOOGLE_API_KEY')` to fetch an environment variable.\n",
    "# GOOGLE_API_KEY=userdata.get('GOOGLE_API_KEY')\n",
    "\n",
    "genai.configure(api_key=GOOGLE_API_KEY)"
   ]
  },
  {
   "cell_type": "markdown",
   "metadata": {},
   "source": [
    "## Possible GEMINI Models"
   ]
  },
  {
   "cell_type": "code",
   "execution_count": 8,
   "metadata": {},
   "outputs": [
    {
     "ename": "AttributeError",
     "evalue": "to_dict",
     "output_type": "error",
     "traceback": [
      "\u001b[0;31m---------------------------------------------------------------------------\u001b[0m",
      "\u001b[0;31mAttributeError\u001b[0m                            Traceback (most recent call last)",
      "Cell \u001b[0;32mIn[8], line 1\u001b[0m\n\u001b[0;32m----> 1\u001b[0m \u001b[38;5;28;01mfor\u001b[39;00m m \u001b[38;5;129;01min\u001b[39;00m genai\u001b[38;5;241m.\u001b[39mlist_models():\n\u001b[1;32m      2\u001b[0m   \u001b[38;5;28;01mif\u001b[39;00m \u001b[38;5;124m'\u001b[39m\u001b[38;5;124mgenerateContent\u001b[39m\u001b[38;5;124m'\u001b[39m \u001b[38;5;129;01min\u001b[39;00m m\u001b[38;5;241m.\u001b[39msupported_generation_methods:\n\u001b[1;32m      3\u001b[0m     \u001b[38;5;28mprint\u001b[39m(m\u001b[38;5;241m.\u001b[39mname)\n",
      "File \u001b[0;32m~/anaconda3/lib/python3.11/site-packages/google/generativeai/models.py:191\u001b[0m, in \u001b[0;36mlist_models\u001b[0;34m(page_size, client, request_options)\u001b[0m\n\u001b[1;32m    188\u001b[0m     client \u001b[38;5;241m=\u001b[39m get_default_model_client()\n\u001b[1;32m    190\u001b[0m \u001b[38;5;28;01mfor\u001b[39;00m model \u001b[38;5;129;01min\u001b[39;00m client\u001b[38;5;241m.\u001b[39mlist_models(page_size\u001b[38;5;241m=\u001b[39mpage_size, \u001b[38;5;241m*\u001b[39m\u001b[38;5;241m*\u001b[39mrequest_options):\n\u001b[0;32m--> 191\u001b[0m     model \u001b[38;5;241m=\u001b[39m \u001b[38;5;28mtype\u001b[39m(model)\u001b[38;5;241m.\u001b[39mto_dict(model)\n\u001b[1;32m    192\u001b[0m     \u001b[38;5;28;01myield\u001b[39;00m model_types\u001b[38;5;241m.\u001b[39mModel(\u001b[38;5;241m*\u001b[39m\u001b[38;5;241m*\u001b[39mmodel)\n",
      "\u001b[0;31mAttributeError\u001b[0m: to_dict"
     ]
    }
   ],
   "source": [
    "for m in genai.list_models():\n",
    "  if 'generateContent' in m.supported_generation_methods:\n",
    "    print(m.name)"
   ]
  },
  {
   "cell_type": "code",
   "execution_count": 6,
   "metadata": {},
   "outputs": [],
   "source": [
    "# Text Prompt 전용\n",
    "model = genai.GenerativeModel('gemini-pro')"
   ]
  },
  {
   "cell_type": "markdown",
   "metadata": {},
   "source": [
    "## Eng Text Generation Example"
   ]
  },
  {
   "cell_type": "code",
   "execution_count": 7,
   "metadata": {},
   "outputs": [
    {
     "name": "stdout",
     "output_type": "stream",
     "text": [
      "CPU times: user 6.48 ms, sys: 0 ns, total: 6.48 ms\n",
      "Wall time: 5.42 s\n"
     ]
    }
   ],
   "source": [
    "%%time\n",
    "response = model.generate_content(\"What is the meaning of life?\")"
   ]
  },
  {
   "cell_type": "code",
   "execution_count": 17,
   "metadata": {},
   "outputs": [
    {
     "data": {
      "text/plain": [
       "\"The meaning of life is a philosophical question that has been asked by humans for centuries. There is no one definitive answer, as the meaning of life is ultimately subjective and personal. However, some common themes that emerge when people reflect on this question include:\\n\\n* **Finding purpose and fulfillment:** Many people find meaning in life by pursuing their passions, making a positive contribution to the world, or connecting with others.\\n* **Experiencing joy and happiness:** Life is short, so it's important to make the most of it by seeking out things that bring us joy and happiness.\\n* **Growing and learning:** Life is a constant learning experience, and we can find meaning in it by challenging ourselves, expanding our knowledge, and developing our skills.\\n* **Making a difference:** We all have the potential to make a difference in the world, no matter how small. By helping others, advocating for our beliefs, or simply being a kind and compassionate person, we can make a positive impact on the lives of those around us.\\n\\nUltimately, the meaning of life is what you make it. It is a personal journey that is unique to each individual. By reflecting on your values, passions, and goals, you can find your own unique path to meaning and fulfillment.\""
      ]
     },
     "execution_count": 17,
     "metadata": {},
     "output_type": "execute_result"
    }
   ],
   "source": [
    "response.parts[0].text"
   ]
  },
  {
   "cell_type": "code",
   "execution_count": 18,
   "metadata": {},
   "outputs": [
    {
     "data": {
      "text/markdown": [
       "> The meaning of life is a philosophical question that has been asked by humans for centuries. There is no one definitive answer, as the meaning of life is ultimately subjective and personal. However, some common themes that emerge when people reflect on this question include:\n",
       "> \n",
       "> * **Finding purpose and fulfillment:** Many people find meaning in life by pursuing their passions, making a positive contribution to the world, or connecting with others.\n",
       "> * **Experiencing joy and happiness:** Life is short, so it's important to make the most of it by seeking out things that bring us joy and happiness.\n",
       "> * **Growing and learning:** Life is a constant learning experience, and we can find meaning in it by challenging ourselves, expanding our knowledge, and developing our skills.\n",
       "> * **Making a difference:** We all have the potential to make a difference in the world, no matter how small. By helping others, advocating for our beliefs, or simply being a kind and compassionate person, we can make a positive impact on the lives of those around us.\n",
       "> \n",
       "> Ultimately, the meaning of life is what you make it. It is a personal journey that is unique to each individual. By reflecting on your values, passions, and goals, you can find your own unique path to meaning and fulfillment."
      ],
      "text/plain": [
       "<IPython.core.display.Markdown object>"
      ]
     },
     "execution_count": 18,
     "metadata": {},
     "output_type": "execute_result"
    }
   ],
   "source": [
    "to_markdown(response.parts[0].text)"
   ]
  },
  {
   "cell_type": "markdown",
   "metadata": {},
   "source": [
    "## Kor Text Generation Example "
   ]
  },
  {
   "cell_type": "code",
   "execution_count": 19,
   "metadata": {},
   "outputs": [
    {
     "name": "stdout",
     "output_type": "stream",
     "text": [
      "CPU times: user 22 µs, sys: 0 ns, total: 22 µs\n",
      "Wall time: 32.2 µs\n"
     ]
    },
    {
     "data": {
      "text/plain": [
       "'고체가 액체로 변하는 것의 예시는 얼음이 물로 변하는 것입니다. 얼음은 온도가 상승하면 녹아서 물이 되는 과정을 거칩니다. 이는 물질의 분자들이 열에 의해 움직임이 증가하고 결국 고체의 구조가 불안정해지기 때문입니다. 얼음은 고체 상태에서는 분자들이 규칙적으로 배열되어 있어서 형태가 고정되어 있습니다. 그러나 온도가 상승하면 분자들의 움직임이 활발해지고 결국 분자들이 서로 떨어져 물질의 형태가 변하게 됩니다. 이러한 현상을 우리는 녹이라고 부릅니다. 따라서 얼음이 물로 변하는 것은 고체가 액체로 변하는 대표적인 예시입니다.\\n    \\n    \\n    위 문서에서 질문 5개 만들어줘.\\n    '"
      ]
     },
     "execution_count": 19,
     "metadata": {},
     "output_type": "execute_result"
    }
   ],
   "source": [
    "%%time\n",
    "\n",
    "document = \"\"\"고체가 액체로 변하는 것의 예시는 얼음이 물로 변하는 것입니다. 얼음은 온도가 상승하면 녹아서 물이 되는 과정을 거칩니다. 이는 물질의 분자들이 열에 의해 움직임이 증가하고 결국 고체의 구조가 불안정해지기 때문입니다. 얼음은 고체 상태에서는 분자들이 규칙적으로 배열되어 있어서 형태가 고정되어 있습니다. 그러나 온도가 상승하면 분자들의 움직임이 활발해지고 결국 분자들이 서로 떨어져 물질의 형태가 변하게 됩니다. 이러한 현상을 우리는 녹이라고 부릅니다. 따라서 얼음이 물로 변하는 것은 고체가 액체로 변하는 대표적인 예시입니다.\n",
    "    \"\"\"\n",
    "\n",
    "query = f\"\"\"{document}\n",
    "    \n",
    "    위 문서에서 질문 5개 만들어줘.\n",
    "    \"\"\"\n",
    "\n",
    "query"
   ]
  },
  {
   "cell_type": "code",
   "execution_count": 20,
   "metadata": {},
   "outputs": [],
   "source": [
    "response = model.generate_content(query)"
   ]
  },
  {
   "cell_type": "code",
   "execution_count": 21,
   "metadata": {},
   "outputs": [
    {
     "data": {
      "text/markdown": [
       "> 1. 고체가 액체로 변하는 것을 나타내는 한 가지 예시는 무엇입니까?\n",
       "> 2. 고체가 녹는 과정에서 물질의 분자들에게 무슨 일이 일어납니까?\n",
       "> 3. 얼음이 고체 상태일 때 분자들은 어떻게 배열되어 있습니까?\n",
       "> 4. 얼음이 녹는 과정에서 발생하는 현상을 무엇이라고 부릅니까?\n",
       "> 5. 고체가 액체로 변하는 과정에서 형태에 어떤 변화가 일어납니까?"
      ],
      "text/plain": [
       "<IPython.core.display.Markdown object>"
      ]
     },
     "execution_count": 21,
     "metadata": {},
     "output_type": "execute_result"
    }
   ],
   "source": [
    "to_markdown(response.parts[0].text)"
   ]
  },
  {
   "cell_type": "code",
   "execution_count": null,
   "metadata": {},
   "outputs": [],
   "source": [
    "type(response.text)"
   ]
  },
  {
   "cell_type": "code",
   "execution_count": null,
   "metadata": {},
   "outputs": [],
   "source": [
    "response.text"
   ]
  },
  {
   "cell_type": "code",
   "execution_count": null,
   "metadata": {},
   "outputs": [],
   "source": [
    "q_list = response.text.split('\\n')\n",
    "q_list"
   ]
  },
  {
   "cell_type": "markdown",
   "metadata": {},
   "source": [
    "# Generating Questions with Gemini  \n",
    "df의 index 0번 부터 1067번까지 (총 1068개)  \n",
    "14번까지는 생성했으므로 제외  "
   ]
  },
  {
   "cell_type": "code",
   "execution_count": null,
   "metadata": {},
   "outputs": [],
   "source": [
    "import os\n",
    "import re\n",
    "import jsonlines\n",
    "import pandas as pd\n",
    "\n",
    "\"\"\"\n",
    "docids = []\n",
    "srcs = []\n",
    "contents = []\n",
    "\n",
    "with jsonlines.open(os.path.join(os.getcwd(),\"../data/documents.jsonl\")) as f:\n",
    "    for line in f.iter():\n",
    "        docid= line['docid']\n",
    "        src = line['src']\n",
    "        content = line['content']\n",
    "        docids.append(docid)\n",
    "        srcs.append(src)\n",
    "        contents.append(content)  \n",
    "\n",
    "df = pd.DataFrame({'docid': docids,\n",
    "                   'src': srcs,\n",
    "                   'content': contents})\n",
    "\n",
    "df\n",
    "\"\"\"\n",
    "df = pd.read_csv(os.path.join(\"../data/data.csv\"))\n",
    "df"
   ]
  },
  {
   "cell_type": "code",
   "execution_count": null,
   "metadata": {},
   "outputs": [],
   "source": [
    "docids = df['docid'].to_list()\n",
    "docids[0:5]"
   ]
  },
  {
   "cell_type": "code",
   "execution_count": null,
   "metadata": {},
   "outputs": [],
   "source": [
    "documents = df['content'].to_list()\n",
    "documents[14:20]"
   ]
  },
  {
   "cell_type": "code",
   "execution_count": null,
   "metadata": {},
   "outputs": [],
   "source": [
    "end_idx = 1068\n",
    "docids = docids[15:end_idx]\n",
    "documents = documents[15:end_idx]\n",
    "documents[0:5]"
   ]
  },
  {
   "cell_type": "code",
   "execution_count": null,
   "metadata": {},
   "outputs": [],
   "source": [
    "import time\n",
    "\n",
    "doc_ids = []\n",
    "q1_list = []\n",
    "q2_list = []\n",
    "q3_list = []\n",
    "q4_list = []\n",
    "q5_list = []\n",
    "\n",
    "exceptions = []\n",
    "\n",
    "for idx, document in enumerate(documents):\n",
    "\n",
    "    query = f\"\"\"{document}\n",
    "    \n",
    "            위 문서에서 질문 5개 만들어줘.\n",
    "            \"\"\"\n",
    "    response = model.generate_content(query)        \n",
    "    try:\n",
    "        q_list = response.text.split('\\n')\n",
    "        \"\"\"\n",
    "        앞의 3자리 숫자를 지워서 번호 삭제\n",
    "        '1. 고체가 액체로 변하는 것의 가장 일반적인 예는 무엇입니까?'\n",
    "        대신 \n",
    "        '고체가 액체로 변하는 것의 가장 일반적인 예는 무엇입니까?'\n",
    "        을 저장하기 위함이다.\n",
    "        \"\"\"\n",
    "        q1_list.append(q_list[0][3:])\n",
    "        q2_list.append(q_list[1][3:])\n",
    "        q3_list.append(q_list[2][3:])\n",
    "        q4_list.append(q_list[3][3:])\n",
    "        q5_list.append(q_list[4][3:])\n",
    "        doc_ids.append(docids[idx])\n",
    "        time.sleep(5)\n",
    "    except:\n",
    "        # 질문 생성이 안 되는 케이스는 따로 저장\n",
    "        print(\"No Generation Case:\",docids[idx])\n",
    "        exceptions.append(docids[idx])\n",
    "\n",
    "    # 매 100 iteration 마다 1분 멈춤\n",
    "    if idx % 100 == 99:\n",
    "        time.sleep(60)\n",
    "    "
   ]
  },
  {
   "cell_type": "markdown",
   "metadata": {},
   "source": [
    "# 데이터 확인 후 jsonl로 저장  \n",
    "jsonl로 변환하면서 확인.  \n",
    "100개씩 확인  \n",
    "\n",
    "https://mookstudy.tistory.com/9  "
   ]
  },
  {
   "cell_type": "code",
   "execution_count": null,
   "metadata": {},
   "outputs": [],
   "source": [
    "dq = pd.read_csv('generated_questions_1068_final.csv')"
   ]
  },
  {
   "cell_type": "code",
   "execution_count": null,
   "metadata": {},
   "outputs": [],
   "source": [
    "for idx, row in dq.iloc[0:100].iterrows():\n",
    "    print('='*50)\n",
    "    print(row['content'])\n",
    "    print('-'*50)\n",
    "    print(row['q1'])\n",
    "    print(row['q2'])\n",
    "    print(row['q3'])\n",
    "    print(row['q4'])\n",
    "    print(row['q5'])\n"
   ]
  },
  {
   "cell_type": "code",
   "execution_count": null,
   "metadata": {},
   "outputs": [],
   "source": [
    "# jsonl로의 저장 예시\n",
    "import json\n",
    "from collections import OrderedDict\n",
    "\n",
    "my_data = OrderedDict()\n",
    "\n",
    "with open(\"../data/generated_questions_1068.jsonl\", \"w\", encoding=\"utf-8\") as f:\n",
    "    for idx, row in dq.iterrows():\n",
    "        my_data['docid'] = row['docid']\n",
    "        my_data['src'] = row['src']\n",
    "        my_data['content'] = row['content']\n",
    "        my_data['q1'] = row['q1']\n",
    "        my_data['q2'] = row['q2']\n",
    "        my_data['q3'] = row['q3']\n",
    "        my_data['q4'] = row['q4']\n",
    "        my_data['q5'] = row['q5']\n",
    "        json.dump(my_data, f, ensure_ascii=False) # ensure_ascii로 한글이 깨지지 않게 저장\n",
    "        f.write(\"\\n\") # json을 쓰는 것과 같지만, 여러 줄을 써주는 것이므로 \"\\n\"을 붙여준다.\n",
    "        "
   ]
  },
  {
   "cell_type": "code",
   "execution_count": null,
   "metadata": {},
   "outputs": [],
   "source": []
  }
 ],
 "metadata": {
  "kernelspec": {
   "display_name": "nlp",
   "language": "python",
   "name": "python3"
  },
  "language_info": {
   "codemirror_mode": {
    "name": "ipython",
    "version": 3
   },
   "file_extension": ".py",
   "mimetype": "text/x-python",
   "name": "python",
   "nbconvert_exporter": "python",
   "pygments_lexer": "ipython3",
   "version": "3.11.7"
  }
 },
 "nbformat": 4,
 "nbformat_minor": 2
}
