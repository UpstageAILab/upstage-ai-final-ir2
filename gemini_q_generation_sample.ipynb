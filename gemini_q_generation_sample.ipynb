{
 "cells": [
  {
   "cell_type": "code",
   "execution_count": 1,
   "metadata": {},
   "outputs": [],
   "source": [
    "# !pip install -q -U google-generativeai"
   ]
  },
  {
   "cell_type": "markdown",
   "metadata": {},
   "source": [
    "# Generating Question via Google GEMINI  \n",
    "아래 링크에서 사용법 참조  \n",
    "https://ai.google.dev/gemini-api/docs/get-started/python?hl=ko"
   ]
  },
  {
   "cell_type": "code",
   "execution_count": 5,
   "metadata": {},
   "outputs": [],
   "source": [
    "GOOGLE_API_KEY = \"\""
   ]
  },
  {
   "cell_type": "code",
   "execution_count": 3,
   "metadata": {},
   "outputs": [
    {
     "name": "stderr",
     "output_type": "stream",
     "text": [
      "/home/taehan/anaconda3/envs/nlp/lib/python3.10/site-packages/tqdm/auto.py:21: TqdmWarning: IProgress not found. Please update jupyter and ipywidgets. See https://ipywidgets.readthedocs.io/en/stable/user_install.html\n",
      "  from .autonotebook import tqdm as notebook_tqdm\n"
     ]
    }
   ],
   "source": [
    "import pathlib\n",
    "import textwrap\n",
    "\n",
    "import google.generativeai as genai\n",
    "\n",
    "from IPython.display import display\n",
    "from IPython.display import Markdown\n",
    "\n",
    "\n",
    "def to_markdown(text):\n",
    "  text = text.replace('•', '  *')\n",
    "  return Markdown(textwrap.indent(text, '> ', predicate=lambda _: True))"
   ]
  },
  {
   "cell_type": "code",
   "execution_count": 6,
   "metadata": {},
   "outputs": [],
   "source": [
    "# from google.colab import userdata\n",
    "# Or use `os.getenv('GOOGLE_API_KEY')` to fetch an environment variable.\n",
    "# GOOGLE_API_KEY=userdata.get('GOOGLE_API_KEY')\n",
    "\n",
    "genai.configure(api_key=GOOGLE_API_KEY)"
   ]
  },
  {
   "cell_type": "markdown",
   "metadata": {},
   "source": [
    "## Possible GEMINI Models"
   ]
  },
  {
   "cell_type": "code",
   "execution_count": 7,
   "metadata": {},
   "outputs": [
    {
     "name": "stdout",
     "output_type": "stream",
     "text": [
      "models/gemini-1.0-pro\n",
      "models/gemini-1.0-pro-001\n",
      "models/gemini-1.0-pro-latest\n",
      "models/gemini-1.0-pro-vision-latest\n",
      "models/gemini-1.5-pro-latest\n",
      "models/gemini-pro\n",
      "models/gemini-pro-vision\n"
     ]
    }
   ],
   "source": [
    "for m in genai.list_models():\n",
    "  if 'generateContent' in m.supported_generation_methods:\n",
    "    print(m.name)"
   ]
  },
  {
   "cell_type": "code",
   "execution_count": 8,
   "metadata": {},
   "outputs": [],
   "source": [
    "# Text Prompt 전용\n",
    "model = genai.GenerativeModel('gemini-pro')"
   ]
  },
  {
   "cell_type": "markdown",
   "metadata": {},
   "source": [
    "## Eng Text Generation Example"
   ]
  },
  {
   "cell_type": "code",
   "execution_count": 9,
   "metadata": {},
   "outputs": [
    {
     "name": "stdout",
     "output_type": "stream",
     "text": [
      "CPU times: user 7.88 ms, sys: 460 µs, total: 8.34 ms\n",
      "Wall time: 5.18 s\n"
     ]
    }
   ],
   "source": [
    "%%time\n",
    "response = model.generate_content(\"What is the meaning of life?\")"
   ]
  },
  {
   "cell_type": "code",
   "execution_count": 10,
   "metadata": {},
   "outputs": [
    {
     "data": {
      "text/markdown": [
       "> The meaning of life is a deep philosophical question that has been pondered by humans for centuries. There is no one definitive answer, and the meaning of life can vary from person to person. Some people believe that the meaning of life is to find happiness, while others believe that it is to fulfill a purpose or to make a difference in the world. Ultimately, the meaning of life is something that each individual must discover for themselves.\n",
       "> \n",
       "> Here are some possible answers to the question \"What is the meaning of life?\":\n",
       "> \n",
       "> * To find happiness\n",
       "> * To fulfill a purpose\n",
       "> * To make a difference in the world\n",
       "> * To experience all that life has to offer\n",
       "> * To learn and grow as a person\n",
       "> * To connect with others\n",
       "> * To love and be loved\n",
       "> * To live a life of integrity\n",
       "> * To find peace and acceptance\n",
       "> * To be grateful for the gift of life\n",
       "> \n",
       "> The meaning of life is not always clear, and it can change over time. What is meaningful to one person may not be meaningful to another. It is important to find your own meaning in life, and to live a life that is true to yourself."
      ],
      "text/plain": [
       "<IPython.core.display.Markdown object>"
      ]
     },
     "execution_count": 10,
     "metadata": {},
     "output_type": "execute_result"
    }
   ],
   "source": [
    "to_markdown(response.text)"
   ]
  },
  {
   "cell_type": "markdown",
   "metadata": {},
   "source": [
    "## Kor Text Generation Example "
   ]
  },
  {
   "cell_type": "code",
   "execution_count": 13,
   "metadata": {},
   "outputs": [
    {
     "name": "stdout",
     "output_type": "stream",
     "text": [
      "CPU times: user 0 ns, sys: 7 µs, total: 7 µs\n",
      "Wall time: 6.91 µs\n"
     ]
    },
    {
     "data": {
      "text/plain": [
       "'고체가 액체로 변하는 것의 예시는 얼음이 물로 변하는 것입니다. 얼음은 온도가 상승하면 녹아서 물이 되는 과정을 거칩니다. 이는 물질의 분자들이 열에 의해 움직임이 증가하고 결국 고체의 구조가 불안정해지기 때문입니다. 얼음은 고체 상태에서는 분자들이 규칙적으로 배열되어 있어서 형태가 고정되어 있습니다. 그러나 온도가 상승하면 분자들의 움직임이 활발해지고 결국 분자들이 서로 떨어져 물질의 형태가 변하게 됩니다. 이러한 현상을 우리는 녹이라고 부릅니다. 따라서 얼음이 물로 변하는 것은 고체가 액체로 변하는 대표적인 예시입니다.\\n    \\n    \\n    위 문서에서 질문 5개 만들어줘.\\n    '"
      ]
     },
     "execution_count": 13,
     "metadata": {},
     "output_type": "execute_result"
    }
   ],
   "source": [
    "%%time\n",
    "\n",
    "document = \"\"\"고체가 액체로 변하는 것의 예시는 얼음이 물로 변하는 것입니다. 얼음은 온도가 상승하면 녹아서 물이 되는 과정을 거칩니다. 이는 물질의 분자들이 열에 의해 움직임이 증가하고 결국 고체의 구조가 불안정해지기 때문입니다. 얼음은 고체 상태에서는 분자들이 규칙적으로 배열되어 있어서 형태가 고정되어 있습니다. 그러나 온도가 상승하면 분자들의 움직임이 활발해지고 결국 분자들이 서로 떨어져 물질의 형태가 변하게 됩니다. 이러한 현상을 우리는 녹이라고 부릅니다. 따라서 얼음이 물로 변하는 것은 고체가 액체로 변하는 대표적인 예시입니다.\n",
    "    \"\"\"\n",
    "\n",
    "query = f\"\"\"{document}\n",
    "    \n",
    "    위 문서에서 질문 5개 만들어줘.\n",
    "    \"\"\"\n",
    "\n",
    "query"
   ]
  },
  {
   "cell_type": "code",
   "execution_count": 14,
   "metadata": {},
   "outputs": [],
   "source": [
    "response = model.generate_content(query)"
   ]
  },
  {
   "cell_type": "code",
   "execution_count": 15,
   "metadata": {},
   "outputs": [
    {
     "data": {
      "text/markdown": [
       "> 1. 고체가 액체로 변하는 것의 가장 일반적인 예는 무엇입니까?\n",
       "> 2. 고체가 액체로 변하는 과정에서 분자에 어떤 일이 일어납니까?\n",
       "> 3. 얼음이 물로 변하는 과정을 녹이라고 부르는 이유는 무엇입니까?\n",
       "> 4. 얼음의 고체 상태에서는 분자들이 어떻게 배열되어 있습니까?\n",
       "> 5. 얼음이 물로 변하는 과정에서 열이 어떤 역할을 합니까?"
      ],
      "text/plain": [
       "<IPython.core.display.Markdown object>"
      ]
     },
     "execution_count": 15,
     "metadata": {},
     "output_type": "execute_result"
    }
   ],
   "source": [
    "to_markdown(response.text)"
   ]
  },
  {
   "cell_type": "code",
   "execution_count": 17,
   "metadata": {},
   "outputs": [
    {
     "data": {
      "text/plain": [
       "str"
      ]
     },
     "execution_count": 17,
     "metadata": {},
     "output_type": "execute_result"
    }
   ],
   "source": [
    "type(response.text)"
   ]
  },
  {
   "cell_type": "code",
   "execution_count": 18,
   "metadata": {},
   "outputs": [
    {
     "data": {
      "text/plain": [
       "'1. 고체가 액체로 변하는 것의 가장 일반적인 예는 무엇입니까?\\n2. 고체가 액체로 변하는 과정에서 분자에 어떤 일이 일어납니까?\\n3. 얼음이 물로 변하는 과정을 녹이라고 부르는 이유는 무엇입니까?\\n4. 얼음의 고체 상태에서는 분자들이 어떻게 배열되어 있습니까?\\n5. 얼음이 물로 변하는 과정에서 열이 어떤 역할을 합니까?'"
      ]
     },
     "execution_count": 18,
     "metadata": {},
     "output_type": "execute_result"
    }
   ],
   "source": [
    "response.text"
   ]
  },
  {
   "cell_type": "code",
   "execution_count": 20,
   "metadata": {},
   "outputs": [
    {
     "data": {
      "text/plain": [
       "['1. 고체가 액체로 변하는 것의 가장 일반적인 예는 무엇입니까?',\n",
       " '2. 고체가 액체로 변하는 과정에서 분자에 어떤 일이 일어납니까?',\n",
       " '3. 얼음이 물로 변하는 과정을 녹이라고 부르는 이유는 무엇입니까?',\n",
       " '4. 얼음의 고체 상태에서는 분자들이 어떻게 배열되어 있습니까?',\n",
       " '5. 얼음이 물로 변하는 과정에서 열이 어떤 역할을 합니까?']"
      ]
     },
     "execution_count": 20,
     "metadata": {},
     "output_type": "execute_result"
    }
   ],
   "source": [
    "q_list = response.text.split('\\n')\n",
    "q_list"
   ]
  },
  {
   "cell_type": "markdown",
   "metadata": {},
   "source": [
    "# Generating Questions with Gemini  \n",
    "df의 index 0번 부터 1067번까지 (총 1068개)  \n",
    "14번까지는 생성했으므로 제외  "
   ]
  },
  {
   "cell_type": "code",
   "execution_count": 21,
   "metadata": {},
   "outputs": [
    {
     "data": {
      "text/html": [
       "<div>\n",
       "<style scoped>\n",
       "    .dataframe tbody tr th:only-of-type {\n",
       "        vertical-align: middle;\n",
       "    }\n",
       "\n",
       "    .dataframe tbody tr th {\n",
       "        vertical-align: top;\n",
       "    }\n",
       "\n",
       "    .dataframe thead th {\n",
       "        text-align: right;\n",
       "    }\n",
       "</style>\n",
       "<table border=\"1\" class=\"dataframe\">\n",
       "  <thead>\n",
       "    <tr style=\"text-align: right;\">\n",
       "      <th></th>\n",
       "      <th>docid</th>\n",
       "      <th>src</th>\n",
       "      <th>content</th>\n",
       "    </tr>\n",
       "  </thead>\n",
       "  <tbody>\n",
       "    <tr>\n",
       "      <th>0</th>\n",
       "      <td>42508ee0-c543-4338-878e-d98c6babee66</td>\n",
       "      <td>ko_mmlu__nutrition__test</td>\n",
       "      <td>건강한 사람이 에너지 균형을 평형 상태로 유지하는 것은 중요합니다. 에너지 균형은 ...</td>\n",
       "    </tr>\n",
       "    <tr>\n",
       "      <th>1</th>\n",
       "      <td>4a437e7f-16c1-4c62-96b9-f173d44f4339</td>\n",
       "      <td>ko_mmlu__conceptual_physics__test</td>\n",
       "      <td>수소, 산소, 질소 가스의 혼합물에서 평균 속도가 가장 빠른 분자는 수소입니다. 수...</td>\n",
       "    </tr>\n",
       "    <tr>\n",
       "      <th>2</th>\n",
       "      <td>d3c68be5-9cb1-4d6e-ba18-5f81cf89affb</td>\n",
       "      <td>ko_ai2_arc__ARC_Challenge__test</td>\n",
       "      <td>종이와 플라스틱은 재활용 가능한 자원입니다. 중학교 과학 수업에서 우리는 종이와 플...</td>\n",
       "    </tr>\n",
       "    <tr>\n",
       "      <th>3</th>\n",
       "      <td>910107a6-2a42-41a2-b337-fbf22d6440fe</td>\n",
       "      <td>ko_ai2_arc__ARC_Challenge__test</td>\n",
       "      <td>마이애미파랑나비는 남부 플로리다에서 멸종 위기에 처한 종입니다. 이 나비의 개체수 ...</td>\n",
       "    </tr>\n",
       "    <tr>\n",
       "      <th>4</th>\n",
       "      <td>74f22819-1a8e-4646-8a9d-13323de8cdb8</td>\n",
       "      <td>ko_ai2_arc__ARC_Challenge__validation</td>\n",
       "      <td>비버는 나무를 베고, 덤불과 관목을 모아 강과 개울에 댐을 만드는 것으로 알려져 있...</td>\n",
       "    </tr>\n",
       "    <tr>\n",
       "      <th>...</th>\n",
       "      <td>...</td>\n",
       "      <td>...</td>\n",
       "      <td>...</td>\n",
       "    </tr>\n",
       "    <tr>\n",
       "      <th>4267</th>\n",
       "      <td>ae28101b-a42e-45b7-b24b-4ea0f1fb2d50</td>\n",
       "      <td>ko_ai2_arc__ARC_Challenge__train</td>\n",
       "      <td>비뇨기계와 순환계는 혈액이 신장을 통과하면서 폐기물과 물이 제거될 때 관여하는 두 ...</td>\n",
       "    </tr>\n",
       "    <tr>\n",
       "      <th>4268</th>\n",
       "      <td>eb727a4f-29c7-4d0c-b364-0e67de1776e9</td>\n",
       "      <td>ko_ai2_arc__ARC_Challenge__train</td>\n",
       "      <td>로봇은 현대 산업에서 많은 역할을 수행할 수 있습니다. 그러나 로봇 사용의 중대한 ...</td>\n",
       "    </tr>\n",
       "    <tr>\n",
       "      <th>4269</th>\n",
       "      <td>0c8c0086-c377-4201-81fa-25159e5435a7</td>\n",
       "      <td>ko_mmlu__human_sexuality__test</td>\n",
       "      <td>월경은 여성의 생리주기에 따라 발생하는 현상으로, 에스트로겐과 프로게스테론 수치의 ...</td>\n",
       "    </tr>\n",
       "    <tr>\n",
       "      <th>4270</th>\n",
       "      <td>06da6a19-ec78-404e-9640-9fc33f63c6a2</td>\n",
       "      <td>ko_ai2_arc__ARC_Challenge__train</td>\n",
       "      <td>식물이 내뿜는 가스는 산소입니다. 식물은 광합성 과정을 통해 태양 에너지를 이용하여...</td>\n",
       "    </tr>\n",
       "    <tr>\n",
       "      <th>4271</th>\n",
       "      <td>03c36d5e-c711-4dc2-b4db-aaeb94d86395</td>\n",
       "      <td>ko_mmlu__computer_security__test</td>\n",
       "      <td>버퍼 오버런은 개발자들이 만든 널리 퍼져 있는 앱의 코딩 오류로써, 공격자가 시스템...</td>\n",
       "    </tr>\n",
       "  </tbody>\n",
       "</table>\n",
       "<p>4272 rows × 3 columns</p>\n",
       "</div>"
      ],
      "text/plain": [
       "                                     docid  \\\n",
       "0     42508ee0-c543-4338-878e-d98c6babee66   \n",
       "1     4a437e7f-16c1-4c62-96b9-f173d44f4339   \n",
       "2     d3c68be5-9cb1-4d6e-ba18-5f81cf89affb   \n",
       "3     910107a6-2a42-41a2-b337-fbf22d6440fe   \n",
       "4     74f22819-1a8e-4646-8a9d-13323de8cdb8   \n",
       "...                                    ...   \n",
       "4267  ae28101b-a42e-45b7-b24b-4ea0f1fb2d50   \n",
       "4268  eb727a4f-29c7-4d0c-b364-0e67de1776e9   \n",
       "4269  0c8c0086-c377-4201-81fa-25159e5435a7   \n",
       "4270  06da6a19-ec78-404e-9640-9fc33f63c6a2   \n",
       "4271  03c36d5e-c711-4dc2-b4db-aaeb94d86395   \n",
       "\n",
       "                                        src  \\\n",
       "0                  ko_mmlu__nutrition__test   \n",
       "1         ko_mmlu__conceptual_physics__test   \n",
       "2           ko_ai2_arc__ARC_Challenge__test   \n",
       "3           ko_ai2_arc__ARC_Challenge__test   \n",
       "4     ko_ai2_arc__ARC_Challenge__validation   \n",
       "...                                     ...   \n",
       "4267       ko_ai2_arc__ARC_Challenge__train   \n",
       "4268       ko_ai2_arc__ARC_Challenge__train   \n",
       "4269         ko_mmlu__human_sexuality__test   \n",
       "4270       ko_ai2_arc__ARC_Challenge__train   \n",
       "4271       ko_mmlu__computer_security__test   \n",
       "\n",
       "                                                content  \n",
       "0     건강한 사람이 에너지 균형을 평형 상태로 유지하는 것은 중요합니다. 에너지 균형은 ...  \n",
       "1     수소, 산소, 질소 가스의 혼합물에서 평균 속도가 가장 빠른 분자는 수소입니다. 수...  \n",
       "2     종이와 플라스틱은 재활용 가능한 자원입니다. 중학교 과학 수업에서 우리는 종이와 플...  \n",
       "3     마이애미파랑나비는 남부 플로리다에서 멸종 위기에 처한 종입니다. 이 나비의 개체수 ...  \n",
       "4     비버는 나무를 베고, 덤불과 관목을 모아 강과 개울에 댐을 만드는 것으로 알려져 있...  \n",
       "...                                                 ...  \n",
       "4267  비뇨기계와 순환계는 혈액이 신장을 통과하면서 폐기물과 물이 제거될 때 관여하는 두 ...  \n",
       "4268  로봇은 현대 산업에서 많은 역할을 수행할 수 있습니다. 그러나 로봇 사용의 중대한 ...  \n",
       "4269  월경은 여성의 생리주기에 따라 발생하는 현상으로, 에스트로겐과 프로게스테론 수치의 ...  \n",
       "4270  식물이 내뿜는 가스는 산소입니다. 식물은 광합성 과정을 통해 태양 에너지를 이용하여...  \n",
       "4271  버퍼 오버런은 개발자들이 만든 널리 퍼져 있는 앱의 코딩 오류로써, 공격자가 시스템...  \n",
       "\n",
       "[4272 rows x 3 columns]"
      ]
     },
     "execution_count": 21,
     "metadata": {},
     "output_type": "execute_result"
    }
   ],
   "source": [
    "import os\n",
    "import re\n",
    "import jsonlines\n",
    "import pandas as pd\n",
    "\n",
    "\"\"\"\n",
    "docids = []\n",
    "srcs = []\n",
    "contents = []\n",
    "\n",
    "with jsonlines.open(os.path.join(os.getcwd(),\"../data/documents.jsonl\")) as f:\n",
    "    for line in f.iter():\n",
    "        docid= line['docid']\n",
    "        src = line['src']\n",
    "        content = line['content']\n",
    "        docids.append(docid)\n",
    "        srcs.append(src)\n",
    "        contents.append(content)  \n",
    "\n",
    "df = pd.DataFrame({'docid': docids,\n",
    "                   'src': srcs,\n",
    "                   'content': contents})\n",
    "\n",
    "df\n",
    "\"\"\"\n",
    "df = pd.read_csv(os.path.join(\"../data/data.csv\"))\n",
    "df"
   ]
  },
  {
   "cell_type": "code",
   "execution_count": 31,
   "metadata": {},
   "outputs": [
    {
     "data": {
      "text/plain": [
       "['42508ee0-c543-4338-878e-d98c6babee66',\n",
       " '4a437e7f-16c1-4c62-96b9-f173d44f4339',\n",
       " 'd3c68be5-9cb1-4d6e-ba18-5f81cf89affb',\n",
       " '910107a6-2a42-41a2-b337-fbf22d6440fe',\n",
       " '74f22819-1a8e-4646-8a9d-13323de8cdb8']"
      ]
     },
     "execution_count": 31,
     "metadata": {},
     "output_type": "execute_result"
    }
   ],
   "source": [
    "docids = df['docid'].to_list()\n",
    "docids[0:5]"
   ]
  },
  {
   "cell_type": "code",
   "execution_count": 37,
   "metadata": {},
   "outputs": [
    {
     "data": {
      "text/plain": [
       "['고체가 액체로 변하는 것의 예시는 얼음이 물로 변하는 것입니다. 얼음은 온도가 상승하면 녹아서 물이 되는 과정을 거칩니다. 이는 물질의 분자들이 열에 의해 움직임이 증가하고 결국 고체의 구조가 불안정해지기 때문입니다. 얼음은 고체 상태에서는 분자들이 규칙적으로 배열되어 있어서 형태가 고정되어 있습니다. 그러나 온도가 상승하면 분자들의 움직임이 활발해지고 결국 분자들이 서로 떨어져 물질의 형태가 변하게 됩니다. 이러한 현상을 우리는 녹이라고 부릅니다. 따라서 얼음이 물로 변하는 것은 고체가 액체로 변하는 대표적인 예시입니다.',\n",
       " '한 실험을 밀폐 용기를 이용해 실시합니다. 이 실험에서는 용기의 초기 온도가 화씨 70도이고 초기 기압이 20psi인 것으로 시작합니다. 용기를 가열하면 온도가 상승하고, 이에 따라 용기 내 압력도 균등하게 상승합니다. 그러나 용기가 다시 화씨 70도로 냉각된다면, 공기 압력은 초기 기압인 20psi로 돌아갈 것입니다. 이는 가열과 냉각 과정에서 공기 분자의 운동이 변화하고, 압력이 변화하는 원리에 기인합니다. 따라서, 용기가 화씨 70도로 냉각되면 공기 압력은 20psi로 돌아갈 것입니다.',\n",
       " '쌍떡잎식물의 줄기는 중심에 목수조직을 가지고 있습니다. 이 목수조직은 유조직으로 구성되어 있습니다. 유조직은 쌍떡잎식물의 줄기를 강하고 단단하게 유지하는 역할을 합니다. 이러한 유조직은 줄기의 성장과 발달에 중요한 역할을 합니다. 따라서, 쌍떡잎식물의 줄기는 유조직을 포함한 목수조직으로 구성되어 있습니다.',\n",
       " '원소가 베타 입자를 방출할 때, 그 원소의 원자 번호는 1만큼 증가한다. 이는 원소의 핵 구조에서 일어나는 현상으로, 원소의 원자 번호가 베타 입자 방출 전과 후에 비교하여 1만큼 증가함을 의미한다. 이러한 현상은 원소의 방사능 붕괴 과정 중 하나로 알려져 있다. 원소의 원자 번호는 원소의 핵 내에 있는 양성자의 수를 나타내는데, 베타 입자 방출은 핵 내의 중성자가 양성자로 변화하는 과정이다. 이로 인해 원소의 원자 번호가 1만큼 증가하게 되는 것이다. 이러한 현상은 원소의 화학적 특성과 원자량 등에 영향을 미치며, 원소의 식별과 연구에 중요한 역할을 한다.',\n",
       " '환경에 가장 적은 피해를 주는 발전소를 건설하기 위해 한 공학자는 태양 전기 발전소를 선택했습니다. 태양 전기 발전소는 태양 에너지를 이용하여 전기를 생산하는 시스템입니다. 이러한 발전소는 화석 연료를 사용하지 않으며, 이산화탄소 배출량이 거의 없어 환경에 미치는 영향이 매우 적습니다. 또한, 태양 전기 발전소는 지속 가능한 에너지원으로 인정받고 있으며, 태양 에너지는 무한히 공급될 수 있는 자원입니다. 따라서, 태양 전기 발전소는 환경에 가장 적은 피해를 주는 발전소로 인정받고 있으며, 한 공학자가 건설해야 할 가장 적합한 선택입니다.',\n",
       " '기후 변화는 미래의 식량 안보에 심각한 영향을 미칠 것으로 예상됩니다. 가뭄, 폭풍, 홍수와 같은 자연재해의 빈도가 증가함으로써 대부분의 개발 도상국에 부정적인 영향을 미칠 것으로 예상됩니다. 이러한 자연재해는 작물의 수확량을 감소시키고 농작물의 품질을 저하시킬 수 있습니다. 또한, 식량 생산에 영향을 미치는 기후 변화는 식량 가격을 상승시킬 수 있으며, 이는 식량 안보에 직접적인 영향을 미칠 수 있습니다. 따라서, 기후 변화에 대한 대비책을 마련하여 식량 안보를 보장하는 것이 중요합니다. 이를 위해 지속 가능한 농업 방법과 식량 생산 기술의 개발이 필요합니다. 또한, 국제적인 협력과 지원을 통해 개발 도상국의 식량 안보를 지원하는 것이 필요합니다. 기후 변화에 대한 인식과 대응이 시급한 과제이며, 이를 통해 미래의 식량 안보를 확보할 수 있을 것입니다.']"
      ]
     },
     "execution_count": 37,
     "metadata": {},
     "output_type": "execute_result"
    }
   ],
   "source": [
    "documents = df['content'].to_list()\n",
    "documents[14:20]"
   ]
  },
  {
   "cell_type": "code",
   "execution_count": null,
   "metadata": {},
   "outputs": [
    {
     "data": {
      "text/plain": [
       "['한 실험을 밀폐 용기를 이용해 실시합니다. 이 실험에서는 용기의 초기 온도가 화씨 70도이고 초기 기압이 20psi인 것으로 시작합니다. 용기를 가열하면 온도가 상승하고, 이에 따라 용기 내 압력도 균등하게 상승합니다. 그러나 용기가 다시 화씨 70도로 냉각된다면, 공기 압력은 초기 기압인 20psi로 돌아갈 것입니다. 이는 가열과 냉각 과정에서 공기 분자의 운동이 변화하고, 압력이 변화하는 원리에 기인합니다. 따라서, 용기가 화씨 70도로 냉각되면 공기 압력은 20psi로 돌아갈 것입니다.',\n",
       " '쌍떡잎식물의 줄기는 중심에 목수조직을 가지고 있습니다. 이 목수조직은 유조직으로 구성되어 있습니다. 유조직은 쌍떡잎식물의 줄기를 강하고 단단하게 유지하는 역할을 합니다. 이러한 유조직은 줄기의 성장과 발달에 중요한 역할을 합니다. 따라서, 쌍떡잎식물의 줄기는 유조직을 포함한 목수조직으로 구성되어 있습니다.',\n",
       " '원소가 베타 입자를 방출할 때, 그 원소의 원자 번호는 1만큼 증가한다. 이는 원소의 핵 구조에서 일어나는 현상으로, 원소의 원자 번호가 베타 입자 방출 전과 후에 비교하여 1만큼 증가함을 의미한다. 이러한 현상은 원소의 방사능 붕괴 과정 중 하나로 알려져 있다. 원소의 원자 번호는 원소의 핵 내에 있는 양성자의 수를 나타내는데, 베타 입자 방출은 핵 내의 중성자가 양성자로 변화하는 과정이다. 이로 인해 원소의 원자 번호가 1만큼 증가하게 되는 것이다. 이러한 현상은 원소의 화학적 특성과 원자량 등에 영향을 미치며, 원소의 식별과 연구에 중요한 역할을 한다.',\n",
       " '환경에 가장 적은 피해를 주는 발전소를 건설하기 위해 한 공학자는 태양 전기 발전소를 선택했습니다. 태양 전기 발전소는 태양 에너지를 이용하여 전기를 생산하는 시스템입니다. 이러한 발전소는 화석 연료를 사용하지 않으며, 이산화탄소 배출량이 거의 없어 환경에 미치는 영향이 매우 적습니다. 또한, 태양 전기 발전소는 지속 가능한 에너지원으로 인정받고 있으며, 태양 에너지는 무한히 공급될 수 있는 자원입니다. 따라서, 태양 전기 발전소는 환경에 가장 적은 피해를 주는 발전소로 인정받고 있으며, 한 공학자가 건설해야 할 가장 적합한 선택입니다.',\n",
       " '기후 변화는 미래의 식량 안보에 심각한 영향을 미칠 것으로 예상됩니다. 가뭄, 폭풍, 홍수와 같은 자연재해의 빈도가 증가함으로써 대부분의 개발 도상국에 부정적인 영향을 미칠 것으로 예상됩니다. 이러한 자연재해는 작물의 수확량을 감소시키고 농작물의 품질을 저하시킬 수 있습니다. 또한, 식량 생산에 영향을 미치는 기후 변화는 식량 가격을 상승시킬 수 있으며, 이는 식량 안보에 직접적인 영향을 미칠 수 있습니다. 따라서, 기후 변화에 대한 대비책을 마련하여 식량 안보를 보장하는 것이 중요합니다. 이를 위해 지속 가능한 농업 방법과 식량 생산 기술의 개발이 필요합니다. 또한, 국제적인 협력과 지원을 통해 개발 도상국의 식량 안보를 지원하는 것이 필요합니다. 기후 변화에 대한 인식과 대응이 시급한 과제이며, 이를 통해 미래의 식량 안보를 확보할 수 있을 것입니다.']"
      ]
     },
     "execution_count": 38,
     "metadata": {},
     "output_type": "execute_result"
    }
   ],
   "source": [
    "end_idx = 1068\n",
    "docids = docids[15:end_idx]\n",
    "documents = documents[15:end_idx]\n",
    "documents[0:5]"
   ]
  },
  {
   "cell_type": "code",
   "execution_count": 40,
   "metadata": {},
   "outputs": [],
   "source": [
    "import time\n",
    "\n",
    "doc_ids = []\n",
    "q1_list = []\n",
    "q2_list = []\n",
    "q3_list = []\n",
    "q4_list = []\n",
    "q5_list = []\n",
    "\n",
    "for idx, document in enumerate(documents):\n",
    "\n",
    "    query = f\"\"\"{document}\n",
    "            위 문서에서 질문 5개 만들어줘.\n",
    "            \"\"\"\n",
    "    response = model.generate_content(query)        \n",
    "    q_list = response.text.split('\\n')\n",
    "    \"\"\"\n",
    "    앞의 3자리 숫자를 지워서 번호 삭제\n",
    "    '1. 고체가 액체로 변하는 것의 가장 일반적인 예는 무엇입니까?'\n",
    "    대신 \n",
    "    '고체가 액체로 변하는 것의 가장 일반적인 예는 무엇입니까?'\n",
    "    을 저장하기 위함이다.\n",
    "    \"\"\"\n",
    "    q1_list.append(q_list[0][3:])\n",
    "    q2_list.append(q_list[1][3:])\n",
    "    q3_list.append(q_list[2][3:])\n",
    "    q4_list.append(q_list[3][3:])\n",
    "    q5_list.append(q_list[4][3:])\n",
    "    doc_ids.append(docids[idx])\n",
    "    time.sleep(5)\n",
    "\n",
    "    # 매 100 iteration 마다 1분 멈춤\n",
    "    if idx % 100 == 99:\n",
    "        time.sleep(60)\n",
    "    "
   ]
  },
  {
   "cell_type": "markdown",
   "metadata": {},
   "source": [
    "# 데이터 확인 후 jsonl로 저장  \n",
    "jsonl로 변환하면서 확인.  \n",
    "100개씩 확인  \n",
    "\n",
    "https://mookstudy.tistory.com/9  "
   ]
  },
  {
   "cell_type": "code",
   "execution_count": null,
   "metadata": {},
   "outputs": [],
   "source": [
    "dq = pd.read_csv('generated_questions_1068_final.csv')"
   ]
  },
  {
   "cell_type": "code",
   "execution_count": null,
   "metadata": {},
   "outputs": [],
   "source": [
    "for idx, row in dq.iloc[0:100].iterrows():\n",
    "    print('='*50)\n",
    "    print(row['content'])\n",
    "    print('-'*50)\n",
    "    print(row['q1'])\n",
    "    print(row['q2'])\n",
    "    print(row['q3'])\n",
    "    print(row['q4'])\n",
    "    print(row['q5'])\n"
   ]
  },
  {
   "cell_type": "code",
   "execution_count": null,
   "metadata": {},
   "outputs": [],
   "source": [
    "# jsonl로의 저장 예시\n",
    "import json\n",
    "from collections import OrderedDict\n",
    "\n",
    "my_data = OrderedDict()\n",
    "\n",
    "with open(\"../data/generated_questions_1068.jsonl\", \"w\", encoding=\"utf-8\") as f:\n",
    "    for idx, row in dq.iterrows():\n",
    "        my_data['docid'] = row['docid']\n",
    "        my_data['src'] = row['src']\n",
    "        my_data['content'] = row['content']\n",
    "        my_data['q1'] = row['q1']\n",
    "        my_data['q2'] = row['q2']\n",
    "        my_data['q3'] = row['q3']\n",
    "        my_data['q4'] = row['q4']\n",
    "        my_data['q5'] = row['q5']\n",
    "        json.dump(my_data, f, ensure_ascii=False) # ensure_ascii로 한글이 깨지지 않게 저장\n",
    "        f.write(\"\\n\") # json을 쓰는 것과 같지만, 여러 줄을 써주는 것이므로 \"\\n\"을 붙여준다.\n",
    "        "
   ]
  },
  {
   "cell_type": "code",
   "execution_count": null,
   "metadata": {},
   "outputs": [],
   "source": []
  }
 ],
 "metadata": {
  "kernelspec": {
   "display_name": "nlp",
   "language": "python",
   "name": "python3"
  },
  "language_info": {
   "codemirror_mode": {
    "name": "ipython",
    "version": 3
   },
   "file_extension": ".py",
   "mimetype": "text/x-python",
   "name": "python",
   "nbconvert_exporter": "python",
   "pygments_lexer": "ipython3",
   "version": "3.10.0"
  }
 },
 "nbformat": 4,
 "nbformat_minor": 2
}
